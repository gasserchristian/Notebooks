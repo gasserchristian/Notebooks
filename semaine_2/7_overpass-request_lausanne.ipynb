{
 "cells": [
  {
   "cell_type": "markdown",
   "metadata": {},
   "source": [
    "__Step 1 :__ importer request, pandas, numpy et matplot"
   ]
  },
  {
   "cell_type": "code",
   "execution_count": 1,
   "metadata": {},
   "outputs": [],
   "source": [
    "import requests\n",
    "import pandas as pd\n",
    "import numpy as np\n",
    "import matplotlib.pyplot as plt"
   ]
  },
  {
   "cell_type": "markdown",
   "metadata": {},
   "source": [
    "__Step 2 :__ requête sur overpass avec output json, nodes dans area défini par un Wikidata ID == hydrater"
   ]
  },
  {
   "cell_type": "code",
   "execution_count": 29,
   "metadata": {},
   "outputs": [],
   "source": [
    "wikidata = 'Q1664007'\n",
    "r_url = '%5Bout%3Ajson%5D%3B%0D%0Aarea%5Bwikidata%3D'+wikidata+'%5D%3B%0D%0Anode%28area%29%5B%7E%27%5Ba-z0-9%5D%27%7E%27%5Ba-z0-9%5D%27%5D%3B%0D%0Aout%3B'\n",
    "r = requests.get('https://www.overpass-api.de/api/interpreter?data='+r_url)\n",
    "jsonobject = r.json()\n",
    "elements = jsonobject['elements']"
   ]
  },
  {
   "cell_type": "code",
   "execution_count": 3,
   "metadata": {},
   "outputs": [
    {
     "data": {
      "text/plain": [
       "\"df = pd.DataFrame(relations['elements'])\\ndf = df.drop(columns=['type','id'])\\ndict = df.to_dict()\\ndict = dict['tags']\""
      ]
     },
     "execution_count": 3,
     "metadata": {},
     "output_type": "execute_result"
    }
   ],
   "source": [
    "'''df = pd.DataFrame(relations['elements'])\n",
    "df = df.drop(columns=['type','id'])\n",
    "dict = df.to_dict()\n",
    "dict = dict['tags']'''"
   ]
  },
  {
   "cell_type": "code",
   "execution_count": 30,
   "metadata": {},
   "outputs": [
    {
     "data": {
      "text/plain": [
       "3386"
      ]
     },
     "execution_count": 30,
     "metadata": {},
     "output_type": "execute_result"
    }
   ],
   "source": [
    "len(elements)"
   ]
  },
  {
   "cell_type": "code",
   "execution_count": 31,
   "metadata": {},
   "outputs": [],
   "source": [
    "table = list()\n",
    "for element in elements: # elements isolé\n",
    "    for tag, value in element['tags'].items():\n",
    "        table.append([element['id'],element['lat'],element['lon'],element['type'],tag,value])"
   ]
  },
  {
   "cell_type": "code",
   "execution_count": 32,
   "metadata": {},
   "outputs": [],
   "source": [
    "df = pd.DataFrame(table,columns=['id','lat','lon','type','tag','value'])"
   ]
  },
  {
   "cell_type": "markdown",
   "metadata": {},
   "source": [
    "__Step 3 :__ statistique sur la fréquence des tags"
   ]
  },
  {
   "cell_type": "code",
   "execution_count": 38,
   "metadata": {},
   "outputs": [
    {
     "name": "stdout",
     "output_type": "stream",
     "text": [
      "365\n"
     ]
    },
    {
     "data": {
      "text/plain": [
       "ref                      196\n",
       "addr:suburb              195\n",
       "emergency                184\n",
       "fire_hydrant:diameter    171\n",
       "fire_hydrant:type        170\n",
       "leaf_type                154\n",
       "leaf_cycle               147\n",
       "level                    143\n",
       "highway                  124\n",
       "man_made                 118\n",
       "addr:floor               117\n",
       "contact:website           97\n",
       "surveillance:type         97\n",
       "cuisine                   78\n",
       "contact:facebook          77\n",
       "barrier                   76\n",
       "public_transport          67\n",
       "note                      66\n",
       "currency:CHF              66\n",
       "currency:EUR              65\n",
       "Name: tag, dtype: int64"
      ]
     },
     "execution_count": 38,
     "metadata": {},
     "output_type": "execute_result"
    }
   ],
   "source": [
    "print(len(df['tag'].value_counts()))\n",
    "c = df['tag'].value_counts()[20:40]\n",
    "c"
   ]
  },
  {
   "cell_type": "markdown",
   "metadata": {},
   "source": [
    "__Step 4 :__ filtre spécifique, écriture de fonction\n",
    "- filtre. entrée : colonne, valeur. Correspondance avec ID\n",
    "- idée : fonction qui enlève éléments qui a un certain Tag"
   ]
  },
  {
   "cell_type": "code",
   "execution_count": 18,
   "metadata": {},
   "outputs": [],
   "source": [
    "def selectClusters(df, column='tag', value='name'):\n",
    "    idswithavalueincolumn = df[df[column]==value]['id']\n",
    "    filtered = df[df['id'].isin(idswithavalueincolumn)]\n",
    "    return filtered[filtered[column] != value]"
   ]
  },
  {
   "cell_type": "markdown",
   "metadata": {},
   "source": [
    "__-----------------------------------------------------------------------------------------------------------------------------------------------------------------------------------------------------------------__"
   ]
  },
  {
   "cell_type": "code",
   "execution_count": 49,
   "metadata": {},
   "outputs": [
    {
     "data": {
      "text/plain": [
       "restaurant                120\n",
       "bench                      80\n",
       "telephone                  38\n",
       "waste_basket               33\n",
       "bar                        32\n",
       "cafe                       30\n",
       "fountain                   28\n",
       "atm                        28\n",
       "vending_machine            24\n",
       "fast_food                  23\n",
       "post_box                   21\n",
       "bank                       19\n",
       "bicycle_parking            16\n",
       "pharmacy                   15\n",
       "embassy                    11\n",
       "nightclub                   9\n",
       "toilets                     9\n",
       "cinema                      9\n",
       "bicycle_rental              9\n",
       "theatre                     7\n",
       "pub                         7\n",
       "lounger                     6\n",
       "place_of_worship            6\n",
       "parking                     5\n",
       "library                     5\n",
       "childcare                   4\n",
       "dentist                     4\n",
       "post_office                 4\n",
       "doctors                     4\n",
       "social_facility             4\n",
       "school                      4\n",
       "car_sharing                 3\n",
       "clock                       3\n",
       "parking_entrance            2\n",
       "recycling                   2\n",
       "bureau_de_change            2\n",
       "public_bookcase             2\n",
       "police                      2\n",
       "charging_station            1\n",
       "bicycle_repair_station      1\n",
       "ex_pharmacy                 1\n",
       "public_building             1\n",
       "clinic                      1\n",
       "taxi                        1\n",
       "lost_property_office        1\n",
       "car_rental                  1\n",
       "adult_cinema                1\n",
       "music_school                1\n",
       "ice_cream                   1\n",
       "internet_cafe               1\n",
       "arts_centre                 1\n",
       "dojo                        1\n",
       "coworking_space             1\n",
       "kindergarten                1\n",
       "Name: value, dtype: int64"
      ]
     },
     "execution_count": 49,
     "metadata": {},
     "output_type": "execute_result"
    }
   ],
   "source": [
    "df[df['tag']=='amenity']['value'].value_counts()"
   ]
  },
  {
   "cell_type": "code",
   "execution_count": 50,
   "metadata": {},
   "outputs": [
    {
     "data": {
      "text/plain": [
       "wikimedia_commons          28\n",
       "image                      28\n",
       "source                     27\n",
       "drinking_water             26\n",
       "name                       21\n",
       "operator                   21\n",
       "wikidata                   19\n",
       "location:description:de    19\n",
       "brand                      17\n",
       "description:de             11\n",
       "alt_name                    8\n",
       "note                        7\n",
       "name:description:de         7\n",
       "owner                       6\n",
       "wikipedia                   6\n",
       "name:de                     3\n",
       "layer                       2\n",
       "ref:kgs                     2\n",
       "artist:wikidata             2\n",
       "name:fr                     2\n",
       "covered                     2\n",
       "name:ru                     2\n",
       "loc_name                    1\n",
       "name:it                     1\n",
       "old_name                    1\n",
       "name:es                     1\n",
       "tourism                     1\n",
       "historic                    1\n",
       "start_date                  1\n",
       "name:en                     1\n",
       "indoor                      1\n",
       "Name: tag, dtype: int64"
      ]
     },
     "execution_count": 50,
     "metadata": {},
     "output_type": "execute_result"
    }
   ],
   "source": [
    "selectClusters(df,'value','fountain')['tag'].value_counts()"
   ]
  },
  {
   "cell_type": "code",
   "execution_count": 42,
   "metadata": {},
   "outputs": [
    {
     "data": {
      "text/html": [
       "<div>\n",
       "<style scoped>\n",
       "    .dataframe tbody tr th:only-of-type {\n",
       "        vertical-align: middle;\n",
       "    }\n",
       "\n",
       "    .dataframe tbody tr th {\n",
       "        vertical-align: top;\n",
       "    }\n",
       "\n",
       "    .dataframe thead th {\n",
       "        text-align: right;\n",
       "    }\n",
       "</style>\n",
       "<table border=\"1\" class=\"dataframe\">\n",
       "  <thead>\n",
       "    <tr style=\"text-align: right;\">\n",
       "      <th></th>\n",
       "      <th>id</th>\n",
       "      <th>lat</th>\n",
       "      <th>lon</th>\n",
       "      <th>type</th>\n",
       "      <th>tag</th>\n",
       "      <th>value</th>\n",
       "    </tr>\n",
       "  </thead>\n",
       "  <tbody>\n",
       "    <tr>\n",
       "      <th>158</th>\n",
       "      <td>59632661</td>\n",
       "      <td>46.945854</td>\n",
       "      <td>7.440294</td>\n",
       "      <td>node</td>\n",
       "      <td>name</td>\n",
       "      <td>Weltpostdenkmal</td>\n",
       "    </tr>\n",
       "    <tr>\n",
       "      <th>1995</th>\n",
       "      <td>670501812</td>\n",
       "      <td>46.948733</td>\n",
       "      <td>7.457036</td>\n",
       "      <td>node</td>\n",
       "      <td>name</td>\n",
       "      <td>Zähringer-Denkmal</td>\n",
       "    </tr>\n",
       "    <tr>\n",
       "      <th>3988</th>\n",
       "      <td>1296812925</td>\n",
       "      <td>46.949209</td>\n",
       "      <td>7.448097</td>\n",
       "      <td>node</td>\n",
       "      <td>name</td>\n",
       "      <td>Erlach-Denkmal</td>\n",
       "    </tr>\n",
       "    <tr>\n",
       "      <th>9288</th>\n",
       "      <td>2493772791</td>\n",
       "      <td>46.945493</td>\n",
       "      <td>7.440594</td>\n",
       "      <td>node</td>\n",
       "      <td>name</td>\n",
       "      <td>Bider-Denkmal</td>\n",
       "    </tr>\n",
       "    <tr>\n",
       "      <th>22470</th>\n",
       "      <td>5463087118</td>\n",
       "      <td>46.944756</td>\n",
       "      <td>7.440502</td>\n",
       "      <td>node</td>\n",
       "      <td>name</td>\n",
       "      <td>Niggeler-Denkmal</td>\n",
       "    </tr>\n",
       "    <tr>\n",
       "      <th>23112</th>\n",
       "      <td>5543349328</td>\n",
       "      <td>46.948865</td>\n",
       "      <td>7.452926</td>\n",
       "      <td>node</td>\n",
       "      <td>name</td>\n",
       "      <td>Lenbrunnen</td>\n",
       "    </tr>\n",
       "  </tbody>\n",
       "</table>\n",
       "</div>"
      ],
      "text/plain": [
       "               id        lat       lon  type   tag              value\n",
       "158      59632661  46.945854  7.440294  node  name    Weltpostdenkmal\n",
       "1995    670501812  46.948733  7.457036  node  name  Zähringer-Denkmal\n",
       "3988   1296812925  46.949209  7.448097  node  name     Erlach-Denkmal\n",
       "9288   2493772791  46.945493  7.440594  node  name      Bider-Denkmal\n",
       "22470  5463087118  46.944756  7.440502  node  name   Niggeler-Denkmal\n",
       "23112  5543349328  46.948865  7.452926  node  name         Lenbrunnen"
      ]
     },
     "execution_count": 42,
     "metadata": {},
     "output_type": "execute_result"
    }
   ],
   "source": [
    "selectClusters(df,'tag','historic')[selectClusters(df,'tag','historic')['tag']=='name']"
   ]
  },
  {
   "cell_type": "code",
   "execution_count": null,
   "metadata": {},
   "outputs": [],
   "source": []
  },
  {
   "cell_type": "code",
   "execution_count": null,
   "metadata": {},
   "outputs": [],
   "source": []
  },
  {
   "cell_type": "code",
   "execution_count": null,
   "metadata": {},
   "outputs": [],
   "source": []
  }
 ],
 "metadata": {
  "kernelspec": {
   "display_name": "Python 3",
   "language": "python",
   "name": "python3"
  },
  "language_info": {
   "codemirror_mode": {
    "name": "ipython",
    "version": 3
   },
   "file_extension": ".py",
   "mimetype": "text/x-python",
   "name": "python",
   "nbconvert_exporter": "python",
   "pygments_lexer": "ipython3",
   "version": "3.6.5"
  }
 },
 "nbformat": 4,
 "nbformat_minor": 2
}
