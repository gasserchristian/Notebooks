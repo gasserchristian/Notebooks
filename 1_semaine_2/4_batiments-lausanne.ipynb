{
 "cells": [
  {
   "cell_type": "code",
   "execution_count": 2,
   "metadata": {},
   "outputs": [],
   "source": [
    "import pandas as pd\n",
    "import numpy as np\n",
    "\n",
    "prop = pd.read_csv('../../data/property-wikidata.csv')"
   ]
  },
  {
   "cell_type": "code",
   "execution_count": 3,
   "metadata": {},
   "outputs": [
    {
     "data": {
      "text/html": [
       "<div>\n",
       "<style scoped>\n",
       "    .dataframe tbody tr th:only-of-type {\n",
       "        vertical-align: middle;\n",
       "    }\n",
       "\n",
       "    .dataframe tbody tr th {\n",
       "        vertical-align: top;\n",
       "    }\n",
       "\n",
       "    .dataframe thead th {\n",
       "        text-align: right;\n",
       "    }\n",
       "</style>\n",
       "<table border=\"1\" class=\"dataframe\">\n",
       "  <thead>\n",
       "    <tr style=\"text-align: right;\">\n",
       "      <th></th>\n",
       "      <th>dLabel</th>\n",
       "      <th>d</th>\n",
       "    </tr>\n",
       "  </thead>\n",
       "  <tbody>\n",
       "    <tr>\n",
       "      <th>0</th>\n",
       "      <td>http://wikiba.se/ontology#identifiers</td>\n",
       "      <td>http://wikiba.se/ontology#identifiers</td>\n",
       "    </tr>\n",
       "    <tr>\n",
       "      <th>1</th>\n",
       "      <td>http://schema.org/version</td>\n",
       "      <td>http://schema.org/version</td>\n",
       "    </tr>\n",
       "    <tr>\n",
       "      <th>2</th>\n",
       "      <td>http://schema.org/dateModified</td>\n",
       "      <td>http://schema.org/dateModified</td>\n",
       "    </tr>\n",
       "    <tr>\n",
       "      <th>3</th>\n",
       "      <td>http://schema.org/description</td>\n",
       "      <td>http://schema.org/description</td>\n",
       "    </tr>\n",
       "    <tr>\n",
       "      <th>4</th>\n",
       "      <td>http://schema.org/description</td>\n",
       "      <td>http://schema.org/description</td>\n",
       "    </tr>\n",
       "  </tbody>\n",
       "</table>\n",
       "</div>"
      ],
      "text/plain": [
       "                                  dLabel  \\\n",
       "0  http://wikiba.se/ontology#identifiers   \n",
       "1              http://schema.org/version   \n",
       "2         http://schema.org/dateModified   \n",
       "3          http://schema.org/description   \n",
       "4          http://schema.org/description   \n",
       "\n",
       "                                       d  \n",
       "0  http://wikiba.se/ontology#identifiers  \n",
       "1              http://schema.org/version  \n",
       "2         http://schema.org/dateModified  \n",
       "3          http://schema.org/description  \n",
       "4          http://schema.org/description  "
      ]
     },
     "execution_count": 3,
     "metadata": {},
     "output_type": "execute_result"
    }
   ],
   "source": [
    "prop.head()"
   ]
  },
  {
   "cell_type": "code",
   "execution_count": 12,
   "metadata": {},
   "outputs": [],
   "source": [
    "counts = prop['dLabel'].value_counts().sort_values(ascending=False)"
   ]
  },
  {
   "cell_type": "markdown",
   "metadata": {},
   "source": [
    "# Filttrage des propriétés"
   ]
  },
  {
   "cell_type": "code",
   "execution_count": 29,
   "metadata": {},
   "outputs": [
    {
     "data": {
      "text/plain": [
       "http://schema.org/version                              7\n",
       "http://www.wikidata.org/prop/P18                       7\n",
       "http://www.wikidata.org/prop/direct/P373               7\n",
       "http://schema.org/dateModified                         7\n",
       "http://www.wikidata.org/prop/direct/P18                7\n",
       "http://www.wikidata.org/prop/P373                      7\n",
       "http://www.wikidata.org/prop/P17                       7\n",
       "http://www.wikidata.org/prop/direct/P84                7\n",
       "http://www.wikidata.org/prop/direct/P17                7\n",
       "http://www.wikidata.org/prop/direct/P625               7\n",
       "http://wikiba.se/ontology#identifiers                  7\n",
       "http://www.wikidata.org/prop/P84                       7\n",
       "http://wikiba.se/ontology#sitelinks                    7\n",
       "http://wikiba.se/ontology#statements                   7\n",
       "http://www.wikidata.org/prop/P625                      7\n",
       "http://www.wikidata.org/prop/P969                      6\n",
       "http://www.wikidata.org/prop/direct/P381               6\n",
       "http://www.wikidata.org/prop/direct/P1435              6\n",
       "http://www.wikidata.org/prop/P1435                     6\n",
       "http://www.wikidata.org/prop/P381                      6\n",
       "http://www.wikidata.org/prop/direct/P969               6\n",
       "http://www.wikidata.org/prop/P214                      3\n",
       "http://www.wikidata.org/prop/direct-normalized/P214    3\n",
       "http://www.wikidata.org/prop/direct-normalized/P646    3\n",
       "http://www.wikidata.org/prop/direct/P214               3\n",
       "http://www.wikidata.org/prop/P646                      3\n",
       "http://www.wikidata.org/prop/direct/P646               3\n",
       "http://www.wikidata.org/prop/P856                      3\n",
       "http://www.wikidata.org/prop/P268                      2\n",
       "http://www.wikidata.org/prop/direct/P571               2\n",
       "http://www.wikidata.org/prop/direct/P2048              2\n",
       "http://www.wikidata.org/prop/direct/P1838              2\n",
       "http://www.wikidata.org/prop/direct/P454               2\n",
       "http://www.wikidata.org/prop/P571                      2\n",
       "http://www.wikidata.org/prop/direct-normalized/P227    2\n",
       "http://www.wikidata.org/prop/direct-normalized/P269    2\n",
       "http://www.wikidata.org/prop/direct/P268               2\n",
       "http://www.wikidata.org/prop/direct/P1705              2\n",
       "http://www.wikidata.org/prop/direct/P269               2\n",
       "http://www.wikidata.org/prop/P454                      2\n",
       "http://www.wikidata.org/prop/direct/P227               2\n",
       "http://www.wikidata.org/prop/P2048                     2\n",
       "http://www.wikidata.org/prop/P1838                     2\n",
       "http://www.wikidata.org/prop/direct/P856               2\n",
       "http://www.wikidata.org/prop/direct/P1619              2\n",
       "http://www.wikidata.org/prop/P227                      2\n",
       "http://www.wikidata.org/prop/P269                      2\n",
       "http://www.wikidata.org/prop/P1619                     2\n",
       "http://www.wikidata.org/prop/P1705                     2\n",
       "http://www.wikidata.org/prop/direct-normalized/P268    2\n",
       "Name: dLabel, dtype: int64"
      ]
     },
     "execution_count": 29,
     "metadata": {},
     "output_type": "execute_result"
    }
   ],
   "source": [
    "counts[np.equal(np.array(counts)<=7,np.array(counts)>=2)]"
   ]
  },
  {
   "cell_type": "code",
   "execution_count": null,
   "metadata": {},
   "outputs": [],
   "source": [
    " "
   ]
  },
  {
   "cell_type": "code",
   "execution_count": null,
   "metadata": {},
   "outputs": [],
   "source": []
  }
 ],
 "metadata": {
  "kernelspec": {
   "display_name": "Python 3",
   "language": "python",
   "name": "python3"
  },
  "language_info": {
   "codemirror_mode": {
    "name": "ipython",
    "version": 3
   },
   "file_extension": ".py",
   "mimetype": "text/x-python",
   "name": "python",
   "nbconvert_exporter": "python",
   "pygments_lexer": "ipython3",
   "version": "3.6.5"
  }
 },
 "nbformat": 4,
 "nbformat_minor": 2
}
