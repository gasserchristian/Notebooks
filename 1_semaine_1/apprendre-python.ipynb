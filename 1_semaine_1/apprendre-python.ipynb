{
 "cells": [
  {
   "cell_type": "markdown",
   "metadata": {},
   "source": [
    "# Apprendre à utiliser Python\n",
    "## Variables"
   ]
  },
  {
   "cell_type": "markdown",
   "metadata": {},
   "source": [
    "Première partie très facile des types de variables..."
   ]
  },
  {
   "cell_type": "code",
   "execution_count": 18,
   "metadata": {},
   "outputs": [
    {
     "name": "stdout",
     "output_type": "stream",
     "text": [
      "<class 'int'>\n",
      "<class 'float'>\n",
      "<class 'str'>\n"
     ]
    }
   ],
   "source": [
    "# entier\n",
    "print(type(4))\n",
    "\n",
    "# flottant\n",
    "print(type(4.5))\n",
    "\n",
    "# string\n",
    "print(type('string'))\n"
   ]
  },
  {
   "cell_type": "markdown",
   "metadata": {},
   "source": [
    "## Structure\n",
    "### Conditions\n"
   ]
  },
  {
   "cell_type": "code",
   "execution_count": 1,
   "metadata": {},
   "outputs": [
    {
     "name": "stdout",
     "output_type": "stream",
     "text": [
      "c'est vrai\n",
      "autre action\n"
     ]
    }
   ],
   "source": [
    "if 1>0:\n",
    "    print('c\\'est vrai')\n",
    "elif 1<0 and 1>-1:\n",
    "    print('c\\'est faux')\n",
    "print('autre action')"
   ]
  },
  {
   "cell_type": "markdown",
   "metadata": {},
   "source": [
    "### Boucles\n",
    "#### While\n",
    "instruction plus condition : et identation..."
   ]
  },
  {
   "cell_type": "code",
   "execution_count": 3,
   "metadata": {},
   "outputs": [
    {
     "name": "stdout",
     "output_type": "stream",
     "text": [
      "0\n",
      "1\n",
      "2\n",
      "3\n",
      "done\n"
     ]
    }
   ],
   "source": [
    "i = 0\n",
    "c = 4\n",
    "while i < c:\n",
    "    print(i)\n",
    "    i += 1\n",
    "print('done')"
   ]
  },
  {
   "cell_type": "markdown",
   "metadata": {},
   "source": [
    "#### For\n",
    "L'équivalent de for en PHP est la boucle foreach\n",
    "##### Spécifique en chaîne de caractères"
   ]
  },
  {
   "cell_type": "code",
   "execution_count": 8,
   "metadata": {},
   "outputs": [
    {
     "name": "stdout",
     "output_type": "stream",
     "text": [
      "C\n",
      "h\n",
      "r\n",
      "i\n",
      "s\n",
      "t\n",
      "i\n",
      "a\n",
      "n\n"
     ]
    }
   ],
   "source": [
    "chain = 'Christian'\n",
    "for letter in chain:\n",
    "    print(letter)"
   ]
  },
  {
   "cell_type": "markdown",
   "metadata": {},
   "source": [
    "##### Usage général"
   ]
  },
  {
   "cell_type": "code",
   "execution_count": 10,
   "metadata": {},
   "outputs": [
    {
     "name": "stdout",
     "output_type": "stream",
     "text": [
      "Le numéro suivant est : 1\n",
      "Le numéro suivant est : 5\n",
      "Le numéro suivant est : 6\n",
      "Le numéro suivant est : 2\n"
     ]
    }
   ],
   "source": [
    "table = [1,5,6,2]\n",
    "for element in table:\n",
    "    print('Le numéro suivant est : ' + str(element))"
   ]
  },
  {
   "cell_type": "markdown",
   "metadata": {},
   "source": [
    "##### Utilisation de \"in\" dans une condition"
   ]
  },
  {
   "cell_type": "code",
   "execution_count": 11,
   "metadata": {},
   "outputs": [
    {
     "name": "stdout",
     "output_type": "stream",
     "text": [
      "*\n",
      "o\n",
      "*\n",
      "*\n",
      "o\n",
      "u\n",
      "*\n",
      "*\n",
      "*\n",
      "e\n",
      "*\n",
      "*\n",
      "*\n",
      "E\n",
      "*\n",
      "*\n",
      "*\n"
     ]
    }
   ],
   "source": [
    "chaine = \"Bonjour les ZER0S\"\n",
    "\n",
    "for lettre in chaine:\n",
    "\n",
    "    if lettre in \"AEIOUYaeiouy\": # lettre est une voyelle\n",
    "\n",
    "        print(lettre)\n",
    "\n",
    "    else: # lettre est une consonne... ou plus exactement, lettre n'est pas une voyelle\n",
    "\n",
    "        print(\"*\")"
   ]
  },
  {
   "cell_type": "markdown",
   "metadata": {},
   "source": [
    "#### Mots clés\n",
    "break permet d'interrompre la boucle et continue permet d'aller à l'itération suivante sans exécuter la suite."
   ]
  },
  {
   "cell_type": "markdown",
   "metadata": {},
   "source": [
    "### Les fonctions\n",
    "Les fonctions que nous connaissons déjà : print(), input() et type()"
   ]
  },
  {
   "cell_type": "code",
   "execution_count": 13,
   "metadata": {},
   "outputs": [
    {
     "name": "stdout",
     "output_type": "stream",
     "text": [
      "as-tu quelque chose à me dire Harry ? non rien\n",
      "Harry dit alors : non rien\n"
     ]
    }
   ],
   "source": [
    "cequeharrydit = input('as-tu quelque chose à me dire Harry ? ')\n",
    "print('Harry dit alors : '+cequeharrydit)"
   ]
  },
  {
   "cell_type": "markdown",
   "metadata": {},
   "source": [
    "Du coup pour créer une fonction on utilise def et la synthaxe est presque la même que pour les autres langages..."
   ]
  },
  {
   "cell_type": "code",
   "execution_count": 15,
   "metadata": {},
   "outputs": [
    {
     "name": "stdout",
     "output_type": "stream",
     "text": [
      "Amenez-lui une pizza!\n",
      "Amenez-lui un carembar!\n"
     ]
    }
   ],
   "source": [
    "def commander(produit):\n",
    "    print('Amenez-lui '+produit+'!')\n",
    "commander('une pizza')\n",
    "commander('un carembar')"
   ]
  },
  {
   "cell_type": "markdown",
   "metadata": {},
   "source": [
    "Mais on peut également assigner des valeurs par défauts"
   ]
  },
  {
   "cell_type": "code",
   "execution_count": 19,
   "metadata": {},
   "outputs": [
    {
     "name": "stdout",
     "output_type": "stream",
     "text": [
      "Amenez-lui une pizza!\n",
      "Amenez-lui un carembar!\n",
      "Amenez-lui une eau minérale!\n",
      "Help on function commander in module __main__:\n",
      "\n",
      "commander(produit='une eau minérale')\n",
      "    mes explications\n",
      "    lorsque je fais un help(commander)\n",
      "\n"
     ]
    }
   ],
   "source": [
    "def commander(produit = 'une eau minérale'):\n",
    "    \"\"\"mes explications\n",
    "    lorsque je fais un help(commander)\"\"\"\n",
    "    print('Amenez-lui '+produit+'!')\n",
    "commander('une pizza')\n",
    "commander('un carembar')\n",
    "commander()\n",
    "help(commander)"
   ]
  },
  {
   "cell_type": "markdown",
   "metadata": {},
   "source": [
    "Note : on dirait que l'on peut redéfinir la fonction sans avertissement de l'interpréteur... La fonction est écrasée et il n'y a pas de surcharge.\n",
    "Ici-bas on voit un petit tric"
   ]
  },
  {
   "cell_type": "code",
   "execution_count": 20,
   "metadata": {},
   "outputs": [
    {
     "name": "stdout",
     "output_type": "stream",
     "text": [
      "a = 4 b = 35 c = 48 d = 4 e = 9\n",
      "a = 1 b = 8 c = 3 d = 5 e = 5\n",
      "a = 4 b = 2 c = 3 d = 4 e = 5\n"
     ]
    }
   ],
   "source": [
    "def fonc(a=1, b=2, c=3, d=4, e=5):\n",
    "    print(\"a =\", a, \"b =\", b, \"c =\", c, \"d =\", d, \"e =\", e)\n",
    "fonc(b=35, c=48, a=4, e=9)\n",
    "fonc(b=8, d=5)\n",
    "fonc(4)"
   ]
  },
  {
   "cell_type": "code",
   "execution_count": 27,
   "metadata": {},
   "outputs": [
    {
     "name": "stdout",
     "output_type": "stream",
     "text": [
      "le carré de 4 est 16 et le carré de 2 est 4\n"
     ]
    }
   ],
   "source": [
    "def deuxcarres(nb1,nb2):\n",
    "    return nb1*nb1, nb2*nb2\n",
    "res1,res2 = deuxcarres(4,2)\n",
    "print('le carré de 4 est '+str(res1)+' et le carré de 2 est '+str(res2))"
   ]
  },
  {
   "cell_type": "markdown",
   "metadata": {},
   "source": [
    "Cela fonctionne comme sur matlab"
   ]
  },
  {
   "cell_type": "markdown",
   "metadata": {},
   "source": [
    "#### Curiosité : la fonction lambda"
   ]
  },
  {
   "cell_type": "code",
   "execution_count": 30,
   "metadata": {},
   "outputs": [
    {
     "data": {
      "text/plain": [
       "7"
      ]
     },
     "execution_count": 30,
     "metadata": {},
     "output_type": "execute_result"
    }
   ],
   "source": [
    "f = lambda x, y: x + y\n",
    "f(4,3)"
   ]
  },
  {
   "cell_type": "markdown",
   "metadata": {},
   "source": [
    "### Modules\n",
    "Pour les modules j'ai déjà vu un tutoriel..."
   ]
  },
  {
   "cell_type": "code",
   "execution_count": 34,
   "metadata": {},
   "outputs": [],
   "source": [
    "#import pandas\n",
    "#help(pandas)"
   ]
  },
  {
   "cell_type": "markdown",
   "metadata": {},
   "source": [
    "## Les objets\n",
    "### Côté utlisateur\n",
    "#### Chaîne de caractères\n",
    "Un exemple d'objet est par exemple une chaîne de caractères qui possède ses propres méthodes :"
   ]
  },
  {
   "cell_type": "code",
   "execution_count": 45,
   "metadata": {},
   "outputs": [
    {
     "name": "stdout",
     "output_type": "stream",
     "text": [
      "Ma chaine de carActères\n",
      "ma chaine de caractères\n",
      "MA CHAINE DE CARACTÈRES\n",
      "Ma chaine de caractères\n",
      "                                      Ma chaine de carActères                                       \n"
     ]
    }
   ],
   "source": [
    "chaine = 'Ma chaine de carActères'\n",
    "print(chaine)\n",
    "print(chaine.lower())\n",
    "print(chaine.upper())\n",
    "print(chaine.lower().capitalize())\n",
    "print(chaine.center(100))\n",
    "#help(str) pour voir les autres méthodes des objets string"
   ]
  },
  {
   "cell_type": "code",
   "execution_count": 47,
   "metadata": {},
   "outputs": [
    {
     "name": "stdout",
     "output_type": "stream",
     "text": [
      "Je m'appelle Paul Dupont (DUPONT Paul pour l'administration) et j'ai 21 ans.\n"
     ]
    }
   ],
   "source": [
    "prenom = \"Paul\"\n",
    "nom = \"Dupont\"\n",
    "age = 21\n",
    "print(\"Je m'appelle {0} {1} ({3} {0} pour l'administration) et j'ai {2} ans.\".format(prenom, nom, age, nom.upper()))"
   ]
  },
  {
   "cell_type": "markdown",
   "metadata": {},
   "source": [
    "Autre manière pour le formatage de chaîne :"
   ]
  },
  {
   "cell_type": "code",
   "execution_count": 48,
   "metadata": {},
   "outputs": [
    {
     "name": "stdout",
     "output_type": "stream",
     "text": [
      "\n",
      "5, rue des Postes\n",
      " 75003 Paris (France)\n",
      "\n"
     ]
    }
   ],
   "source": [
    "adresse = \"\"\"\n",
    "{no_rue}, {nom_rue}\n",
    " {code_postal} {nom_ville} ({pays})\n",
    "\"\"\".format(no_rue=5, nom_rue=\"rue des Postes\", code_postal=75003, nom_ville=\"Paris\", pays=\"France\")\n",
    "print(adresse)"
   ]
  },
  {
   "cell_type": "markdown",
   "metadata": {},
   "source": [
    "En ce qui concerne les listes, quelques notions :"
   ]
  },
  {
   "cell_type": "code",
   "execution_count": 62,
   "metadata": {},
   "outputs": [
    {
     "name": "stdout",
     "output_type": "stream",
     "text": [
      "['dsf', 'abc']\n",
      "['dsf', 'abc']\n",
      "abc\n"
     ]
    }
   ],
   "source": [
    "maliste = []\n",
    "maliste.insert(5,'dsf')\n",
    "##décalage des indices >= à 5...\n",
    "#maliste[6] fait une erreur, maliste[0] c'est bon\n",
    "maliste2 = ['abc']\n",
    "print(maliste+maliste2)\n",
    "maliste.extend(maliste2)\n",
    "print(maliste)\n",
    "\n",
    "del maliste[0]\n",
    "print(maliste[0])\n",
    "maliste.remove('abc')"
   ]
  },
  {
   "cell_type": "markdown",
   "metadata": {},
   "source": [
    "#### Listes\n",
    "Voici une autres manière de parcourir la liste :"
   ]
  },
  {
   "cell_type": "code",
   "execution_count": 64,
   "metadata": {},
   "outputs": [
    {
     "name": "stdout",
     "output_type": "stream",
     "text": [
      "0 1\n",
      "1 2\n",
      "2 4\n",
      "3 6\n",
      "4 542\n",
      "5 2\n",
      "6 3\n",
      "7 5\n",
      "8 64\n"
     ]
    }
   ],
   "source": [
    "liste = [1,2,4,6,542,2,3,5,64]\n",
    "for i, elt in enumerate(liste):\n",
    "    print(str(i)+' '+str(elt))"
   ]
  },
  {
   "cell_type": "markdown",
   "metadata": {},
   "source": [
    "Note : juste en bas voici une affectation multiple"
   ]
  },
  {
   "cell_type": "code",
   "execution_count": 68,
   "metadata": {},
   "outputs": [
    {
     "name": "stdout",
     "output_type": "stream",
     "text": [
      "3\n",
      "4\n"
     ]
    }
   ],
   "source": [
    "(a,b) = (3,4)\n",
    "print(a)\n",
    "print(b)"
   ]
  },
  {
   "cell_type": "markdown",
   "metadata": {},
   "source": [
    "### Brève introduction aux paramètres de fonction"
   ]
  },
  {
   "cell_type": "code",
   "execution_count": 74,
   "metadata": {},
   "outputs": [
    {
     "name": "stdout",
     "output_type": "stream",
     "text": [
      "1 2 4 6 542 2 3 5 64\n"
     ]
    }
   ],
   "source": [
    "print(*liste)"
   ]
  },
  {
   "cell_type": "code",
   "execution_count": 79,
   "metadata": {},
   "outputs": [
    {
     "name": "stdout",
     "output_type": "stream",
     "text": [
      "1-2-4-6-542-2-3-5-64 the end\n"
     ]
    }
   ],
   "source": [
    "print(*liste, sep='-',end=' the end\\n')"
   ]
  },
  {
   "cell_type": "markdown",
   "metadata": {},
   "source": [
    "### Compréhension d'une liste\n",
    "#### Parcours simple"
   ]
  },
  {
   "cell_type": "code",
   "execution_count": 81,
   "metadata": {},
   "outputs": [
    {
     "name": "stdout",
     "output_type": "stream",
     "text": [
      "[0, 1, 4, 9, 16, 25]\n"
     ]
    }
   ],
   "source": [
    "liste_depart = [0,1,2,3,4,5]\n",
    "print([nb * nb for nb in liste_depart])\n"
   ]
  },
  {
   "cell_type": "markdown",
   "metadata": {},
   "source": [
    "#### Filtrage avec branchement conditionnel\n",
    "Ici on a une liste et elle est parcourue. Si c'est pair (modulo nul) alors on l'a met dans la nouvelle liste"
   ]
  },
  {
   "cell_type": "code",
   "execution_count": 83,
   "metadata": {},
   "outputs": [
    {
     "data": {
      "text/plain": [
       "[2, 4, 6, 8, 10]"
      ]
     },
     "execution_count": 83,
     "metadata": {},
     "output_type": "execute_result"
    }
   ],
   "source": [
    "liste_depart = [1,2,3,4,5,6,7,8,9,10]\n",
    "[nb for nb in liste_depart if nb%2==0]"
   ]
  },
  {
   "cell_type": "markdown",
   "metadata": {},
   "source": [
    "#### Filtrage avancé"
   ]
  },
  {
   "cell_type": "code",
   "execution_count": 85,
   "metadata": {},
   "outputs": [
    {
     "data": {
      "text/plain": [
       "[8, 11, 14]"
      ]
     },
     "execution_count": 85,
     "metadata": {},
     "output_type": "execute_result"
    }
   ],
   "source": [
    "qtt_a_retirer = 7 # on retire chaque semaine 7 fruits de chaque sorte\n",
    "fruits_stockes = [15,3,18,21] # 15 pommes, 3 melons, etc.\n",
    "[nb_fruits-qtt_a_retirer for nb_fruits in fruits_stockes if nb_fruits>qtt_a_retirer]"
   ]
  },
  {
   "cell_type": "markdown",
   "metadata": {},
   "source": [
    "Ce qui est assez intéressant car on supprime les éléments de quantité trop faible."
   ]
  },
  {
   "cell_type": "markdown",
   "metadata": {},
   "source": [
    "Encore plus avancé, le tri d'un tableau à deux dimensions :"
   ]
  },
  {
   "cell_type": "code",
   "execution_count": 93,
   "metadata": {},
   "outputs": [
    {
     "name": "stdout",
     "output_type": "stream",
     "text": [
      "[('prunes', 51), ('pommes', 22), ('poires', 18), ('melons', 4)]\n",
      "[(51, 'prunes'), (22, 'pommes'), (18, 'poires'), (4, 'melons')]\n"
     ]
    }
   ],
   "source": [
    "inventaire = [\n",
    "    (\"pommes\",22),\n",
    "    (\"melons\",4),\n",
    "    (\"poires\",18),\n",
    "    (\"prunes\",51)\n",
    "]\n",
    "inventaire_inverse = [(qtt,nom_fruit) for nom_fruit,qtt in inventaire]\n",
    "\n",
    "# Voyons la différence de classement\n",
    "print(sorted(inventaire,reverse=True)) #ordre alphabétique\n",
    "print(sorted(inventaire_inverse,reverse=True)) #ordre par quantité\n",
    "\n",
    "inventaire = sorted(inventaire_inverse,reverse=True)"
   ]
  },
  {
   "cell_type": "markdown",
   "metadata": {},
   "source": [
    "### Dictionnaire\n",
    "Ce sont presque des listes. À la différence que la clé n'est pas un nombre."
   ]
  },
  {
   "cell_type": "code",
   "execution_count": 101,
   "metadata": {},
   "outputs": [],
   "source": [
    "mon_dictionnaire={}\n",
    "mon_dictionnaire=dict()\n",
    "# même résultat..."
   ]
  },
  {
   "cell_type": "code",
   "execution_count": 102,
   "metadata": {},
   "outputs": [
    {
     "name": "stdout",
     "output_type": "stream",
     "text": [
      "{'test': 'un test', 'nombre': 4}\n"
     ]
    }
   ],
   "source": [
    "mon_dictionnaire['test'] = 'un test'\n",
    "mon_dictionnaire['nombre'] = 4\n",
    "print(mon_dictionnaire)"
   ]
  },
  {
   "cell_type": "markdown",
   "metadata": {},
   "source": [
    "Note : un dictionnaire est utile pour stocker une fonction..."
   ]
  },
  {
   "cell_type": "markdown",
   "metadata": {},
   "source": [
    "#### Méthodes de parcours"
   ]
  },
  {
   "cell_type": "code",
   "execution_count": 105,
   "metadata": {},
   "outputs": [
    {
     "name": "stdout",
     "output_type": "stream",
     "text": [
      "clés :\n",
      "test\n",
      "nombre\n",
      "\n",
      "valeurs :\n",
      "un test\n",
      "4\n"
     ]
    }
   ],
   "source": [
    "# pour les clés\n",
    "print('clés :')\n",
    "for cle in mon_dictionnaire.keys():\n",
    "    print(cle)\n",
    "\n",
    "# pour les valeurs\n",
    "print('\\nvaleurs :')\n",
    "for valeur in mon_dictionnaire.values():\n",
    "    print(valeur)"
   ]
  },
  {
   "cell_type": "code",
   "execution_count": 106,
   "metadata": {},
   "outputs": [
    {
     "name": "stdout",
     "output_type": "stream",
     "text": [
      "test un test\n",
      "nombre 4\n"
     ]
    }
   ],
   "source": [
    "# pour les deux\n",
    "for cle,valeur in mon_dictionnaire.items(): #.items contrairement à enumerate dans les listes\n",
    "    print(str(cle)+ ' '+str(valeur))"
   ]
  },
  {
   "cell_type": "markdown",
   "metadata": {},
   "source": [
    "Note : on peut aussi transformer dictionnaire en paramètres mais cette fois avec deux étoiles (**)"
   ]
  },
  {
   "cell_type": "markdown",
   "metadata": {},
   "source": [
    "### Portée de la variable\n",
    "#### Exemple 1"
   ]
  },
  {
   "cell_type": "code",
   "execution_count": 112,
   "metadata": {},
   "outputs": [],
   "source": [
    "def set_var(nouvelle_valeur):\n",
    "    try:\n",
    "        print(\"Avant l'affectation, notre variable var vaut {0}.\".format(var))\n",
    "    except NameError:\n",
    "        print(\"La variable n'existe pas encore.\")\n",
    "    var = nouvelle_valeur\n",
    "    print(\"Après l'affectation, notre variable var vaut {0}.\".format(var))\n",
    "    "
   ]
  },
  {
   "cell_type": "code",
   "execution_count": 113,
   "metadata": {},
   "outputs": [
    {
     "name": "stdout",
     "output_type": "stream",
     "text": [
      "La variable n'existe pas encore.\n",
      "Après l'affectation, notre variable var vaut 5.\n"
     ]
    }
   ],
   "source": [
    "set_var(5)"
   ]
  },
  {
   "cell_type": "code",
   "execution_count": 114,
   "metadata": {},
   "outputs": [
    {
     "ename": "NameError",
     "evalue": "name 'var' is not defined",
     "output_type": "error",
     "traceback": [
      "\u001b[1;31m---------------------------------------------------------------------------\u001b[0m",
      "\u001b[1;31mNameError\u001b[0m                                 Traceback (most recent call last)",
      "\u001b[1;32m<ipython-input-114-84ddba356ca3>\u001b[0m in \u001b[0;36m<module>\u001b[1;34m()\u001b[0m\n\u001b[1;32m----> 1\u001b[1;33m \u001b[0mvar\u001b[0m\u001b[1;33m\u001b[0m\u001b[0m\n\u001b[0m",
      "\u001b[1;31mNameError\u001b[0m: name 'var' is not defined"
     ]
    }
   ],
   "source": [
    "var"
   ]
  },
  {
   "cell_type": "markdown",
   "metadata": {},
   "source": [
    "Ce qui est normal car la variable n'a pas été définie dans le corps du programme..."
   ]
  },
  {
   "cell_type": "markdown",
   "metadata": {},
   "source": [
    "#### Exemple 2"
   ]
  },
  {
   "cell_type": "code",
   "execution_count": 118,
   "metadata": {},
   "outputs": [
    {
     "data": {
      "text/plain": [
       "['a', 'e', 'i', 'o']"
      ]
     },
     "execution_count": 118,
     "metadata": {},
     "output_type": "execute_result"
    }
   ],
   "source": [
    "def ajouter(liste,valeur_a_ajouter):\n",
    "    liste.append(valeur_a_ajouter)\n",
    "ma_liste=['a','e','i']\n",
    "ajouter(ma_liste,'o')\n",
    "ma_liste"
   ]
  },
  {
   "cell_type": "markdown",
   "metadata": {},
   "source": [
    "et c'est normal car on appelle une fonction de l'objet!"
   ]
  },
  {
   "cell_type": "markdown",
   "metadata": {},
   "source": [
    "#### Exemple 3"
   ]
  },
  {
   "cell_type": "code",
   "execution_count": 120,
   "metadata": {},
   "outputs": [
    {
     "name": "stdout",
     "output_type": "stream",
     "text": [
      "[1, 2, 3, 4]\n",
      "[1, 2, 3, 4]\n"
     ]
    }
   ],
   "source": [
    "ma_liste1 = [1,2,3]\n",
    "ma_liste2 = ma_liste1\n",
    "ma_liste2.append(4)\n",
    "print(ma_liste2)\n",
    "print(ma_liste1)"
   ]
  },
  {
   "cell_type": "markdown",
   "metadata": {},
   "source": [
    "on modifie les deux..."
   ]
  },
  {
   "cell_type": "markdown",
   "metadata": {},
   "source": [
    "## Côté développeur"
   ]
  },
  {
   "cell_type": "markdown",
   "metadata": {},
   "source": [
    "### Une classe"
   ]
  },
  {
   "cell_type": "code",
   "execution_count": 135,
   "metadata": {},
   "outputs": [],
   "source": [
    "class Personne:\n",
    "    \"\"\"Documentation de la classe\"\"\"\n",
    "    # zone pour les attributs de classe\n",
    "    objets_crees = 0\n",
    "    def __init__(self, nom, prenom):\n",
    "        self.nom = nom\n",
    "        self.prenom = prenom\n",
    "        self.age = 33\n",
    "        self.lieu_residence = \"Paris\"\n",
    "        Personne.objets_crees += 1\n"
   ]
  },
  {
   "cell_type": "markdown",
   "metadata": {},
   "source": [
    "#### Exemple avec un attribut de classe\n",
    "(variable commune à la classe)"
   ]
  },
  {
   "cell_type": "code",
   "execution_count": 139,
   "metadata": {},
   "outputs": [
    {
     "name": "stdout",
     "output_type": "stream",
     "text": [
      "7\n",
      "8\n"
     ]
    }
   ],
   "source": [
    "christian = Personne('Gasser','Christian')\n",
    "print(christian.objets_crees)\n",
    "frank = Personne('Frank','Dupond')\n",
    "print(christian.objets_crees)"
   ]
  },
  {
   "cell_type": "markdown",
   "metadata": {},
   "source": [
    "pour écrire une méthode il suffit de rajouter le mot clé def.\n",
    "Remarque : le premier paramètre est l'objet qu'on appelle. Par convention on l'appelle self.\n",
    "### Méthode de classe"
   ]
  },
  {
   "cell_type": "code",
   "execution_count": 27,
   "metadata": {},
   "outputs": [
    {
     "name": "stdout",
     "output_type": "stream",
     "text": [
      "8\n",
      "2\n"
     ]
    }
   ],
   "source": [
    "class Compteur:\n",
    "    objets_crees = 0\n",
    "    def __init__(self):\n",
    "        Compteur.objets_crees += 1\n",
    "        # attention : je devrais toujours initialiser\n",
    "        self.surface = 0\n",
    "    # méthode normale\n",
    "    def ecrire(s,nb): # ce premier paramètre est considéré comme le self\n",
    "        s.surface = nb\n",
    "    def combien(cls): # cls par convention\n",
    "        print(cls.objets_crees) # ici python comprend qu'il s'agit de la classe\n",
    "instance = Compteur()\n",
    "instance.ecrire(4)\n",
    "instance.surface\n",
    "\n",
    "instance2 = Compteur()\n",
    "instance2.ecrire(8)\n",
    "\n",
    "print(instance2.surface)\n",
    "\n",
    "instance.combien()"
   ]
  },
  {
   "cell_type": "markdown",
   "metadata": {},
   "source": [
    "### Fonctions d'exploration"
   ]
  },
  {
   "cell_type": "code",
   "execution_count": 30,
   "metadata": {},
   "outputs": [
    {
     "data": {
      "text/plain": [
       "['__class__',\n",
       " '__delattr__',\n",
       " '__dict__',\n",
       " '__dir__',\n",
       " '__doc__',\n",
       " '__eq__',\n",
       " '__format__',\n",
       " '__ge__',\n",
       " '__getattribute__',\n",
       " '__gt__',\n",
       " '__hash__',\n",
       " '__init__',\n",
       " '__init_subclass__',\n",
       " '__le__',\n",
       " '__lt__',\n",
       " '__module__',\n",
       " '__ne__',\n",
       " '__new__',\n",
       " '__reduce__',\n",
       " '__reduce_ex__',\n",
       " '__repr__',\n",
       " '__setattr__',\n",
       " '__sizeof__',\n",
       " '__str__',\n",
       " '__subclasshook__',\n",
       " '__weakref__',\n",
       " 'combien',\n",
       " 'ecrire',\n",
       " 'objets_crees',\n",
       " 'surface']"
      ]
     },
     "execution_count": 30,
     "metadata": {},
     "output_type": "execute_result"
    }
   ],
   "source": [
    "dir(instance) # renvoie liste attributs et méthodes"
   ]
  },
  {
   "cell_type": "code",
   "execution_count": 32,
   "metadata": {},
   "outputs": [
    {
     "data": {
      "text/plain": [
       "{'surface': 4}"
      ]
     },
     "execution_count": 32,
     "metadata": {},
     "output_type": "execute_result"
    }
   ],
   "source": [
    "instance.__dict__ # clés et valeurs des attributs"
   ]
  },
  {
   "cell_type": "markdown",
   "metadata": {},
   "source": [
    "### Propriétés"
   ]
  },
  {
   "cell_type": "code",
   "execution_count": 40,
   "metadata": {},
   "outputs": [
    {
     "name": "stdout",
     "output_type": "stream",
     "text": [
      "On accède attribut lieu_residence\n",
      "Attention, il semble que Marc déménage à encore changé.\n"
     ]
    },
    {
     "data": {
      "text/plain": [
       "'encore changé'"
      ]
     },
     "execution_count": 40,
     "metadata": {},
     "output_type": "execute_result"
    }
   ],
   "source": [
    "class Personne:\n",
    "    def __init__(self, nom, prenom):\n",
    "        self.nom = nom\n",
    "        self.prenom = prenom\n",
    "        self.age = 33\n",
    "        self._lieu_residence=\"Paris\"\n",
    "    def _get_lieu_residence(self):\n",
    "        print(\"On accède attribut lieu_residence\")\n",
    "        return self._lieu_residence\n",
    "    def _set_lieu_residence(self, nouvelle_residence):\n",
    "        print(\"Attention, il semble que {} déménage à {}.\".format(self.prenom, nouvelle_residence))\n",
    "        self._lieu_residence = nouvelle_residence\n",
    "        #convention underscore _ : on y accède pas...\n",
    "    lieu_residence = property(_get_lieu_residence, _set_lieu_residence)\n",
    "    # property : getteur, setteur, deleteur (del objet.lieu_residence), help(objet.lieu_residence)\n",
    "    \n",
    "moi = Personne('Dupont','Marc')\n",
    "\n",
    "# en fait on peut quand même changer...\n",
    "moi._lieu_residence = 'changé'\n",
    "moi.lieu_residence #mais on est sensé faire autre chose ?\n",
    "moi.lieu_residence = 'encore changé'\n",
    "moi._lieu_residence\n",
    "    \n",
    "    \n"
   ]
  },
  {
   "cell_type": "markdown",
   "metadata": {},
   "source": [
    "### Méthodes spéciales\n",
    "agir en fonction des opérateurs"
   ]
  },
  {
   "cell_type": "markdown",
   "metadata": {},
   "source": [
    "\\__init__ est la fonction appellée à l'instanciation, \\__del__ à la destruction : del(instance)"
   ]
  },
  {
   "cell_type": "code",
   "execution_count": 106,
   "metadata": {
    "scrolled": true
   },
   "outputs": [
    {
     "name": "stdout",
     "output_type": "stream",
     "text": [
      "valeur : nom Poucet\n",
      "Oh! un print!!\n",
      "faire quelque chose avec oh\n"
     ]
    },
    {
     "data": {
      "text/plain": [
       "Poucet c'est mon nom."
      ]
     },
     "execution_count": 106,
     "metadata": {},
     "output_type": "execute_result"
    }
   ],
   "source": [
    "class Truc:\n",
    "    def __init__(self, nom):\n",
    "        self.nom = nom\n",
    "    def __repr__(self):\n",
    "        return self.nom + \" c'est mon nom.\"\n",
    "    def __str__(self): # si pas définie on appelle __repr__\n",
    "        return \"Oh! un print!!\"\n",
    "    def __getattr__(self, nomattribut):\n",
    "        if nomattribut == 'oh' or nomattribut == 'ah' :\n",
    "            print(\"faire quelque chose avec \" + nomattribut)\n",
    "    def __setattr__(self,nom_attr,val_attr):\n",
    "        object.__setattr__(self, nom_attr, val_attr)\n",
    "        print('valeur : '+str(nom_attr)+' '+str(val_attr))\n",
    "            \n",
    "            \n",
    "obj = Truc('Poucet')\n",
    "print(obj)\n",
    "obj.oh\n",
    "obj\n",
    "    "
   ]
  },
  {
   "cell_type": "code",
   "execution_count": 107,
   "metadata": {},
   "outputs": [
    {
     "data": {
      "text/plain": [
       "'Oh! un print!!'"
      ]
     },
     "execution_count": 107,
     "metadata": {},
     "output_type": "execute_result"
    }
   ],
   "source": [
    "str(obj)"
   ]
  },
  {
   "cell_type": "markdown",
   "metadata": {},
   "source": [
    "<strong>Quelques fonctions :</strong>"
   ]
  },
  {
   "cell_type": "code",
   "execution_count": 110,
   "metadata": {},
   "outputs": [
    {
     "name": "stdout",
     "output_type": "stream",
     "text": [
      "valeur : nom nouveau\n"
     ]
    },
    {
     "data": {
      "text/plain": [
       "True"
      ]
     },
     "execution_count": 110,
     "metadata": {},
     "output_type": "execute_result"
    }
   ],
   "source": [
    "getattr(obj,\"nom\") # objet.nom\n",
    "setattr(obj,\"nom\", 'nouveau') # objet.nom = 'nouveau'\n",
    "# delattr\n",
    "hasattr(obj,'nom')"
   ]
  },
  {
   "cell_type": "markdown",
   "metadata": {},
   "source": [
    "<strong>Note</strong> : on a d'autres méthodes pour les fonctions mathématiques et logiques"
   ]
  },
  {
   "cell_type": "markdown",
   "metadata": {},
   "source": [
    "chapitres sautés :\n",
    "<ul>\n",
    "    <li>Exceptions</li>\n",
    "    <li>Lecture/Ecriture fichier</li>\n",
    "    <li>Le tri</li>\n",
    "    <li>L'héritage</li>\n",
    "    <li>Itération</li>\n",
    "    <li>Décorateurs</li>\n",
    "    <li>Métaclasses</li>\n",
    "    <li>Partie 4 : bibliothèque standard</li>\n",
    "</ul>"
   ]
  },
  {
   "cell_type": "code",
   "execution_count": null,
   "metadata": {},
   "outputs": [],
   "source": []
  }
 ],
 "metadata": {
  "kernelspec": {
   "display_name": "Python 3",
   "language": "python",
   "name": "python3"
  },
  "language_info": {
   "codemirror_mode": {
    "name": "ipython",
    "version": 3
   },
   "file_extension": ".py",
   "mimetype": "text/x-python",
   "name": "python",
   "nbconvert_exporter": "python",
   "pygments_lexer": "ipython3",
   "version": "3.6.5"
  }
 },
 "nbformat": 4,
 "nbformat_minor": 2
}
