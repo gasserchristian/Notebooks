{
 "cells": [
  {
   "cell_type": "code",
   "execution_count": 73,
   "metadata": {},
   "outputs": [],
   "source": [
    "import requests\n",
    "import re\n",
    "from lxml import html"
   ]
  },
  {
   "cell_type": "markdown",
   "metadata": {},
   "source": [
    "# Chargement"
   ]
  },
  {
   "cell_type": "code",
   "execution_count": 82,
   "metadata": {},
   "outputs": [],
   "source": [
    "r = requests.get('http://lachouquette.ch/')"
   ]
  },
  {
   "cell_type": "code",
   "execution_count": 83,
   "metadata": {},
   "outputs": [],
   "source": [
    "tree = html.fromstring(r.content)"
   ]
  },
  {
   "cell_type": "code",
   "execution_count": 84,
   "metadata": {},
   "outputs": [
    {
     "data": {
      "text/plain": [
       "['http://lachouquette.ch/',\n",
       " 'http://lachouquette.ch/category/life/',\n",
       " 'http://lachouquette.ch/sorties/',\n",
       " 'http://lachouquette.ch/event/',\n",
       " 'http://lachouquette.ch/culture/',\n",
       " 'http://lachouquette.ch/kids/',\n",
       " 'http://lachouquette.ch/category/style/',\n",
       " 'http://lachouquette.ch/mode/',\n",
       " 'http://lachouquette.ch/deco/',\n",
       " 'http://lachouquette.ch/bien-etre/',\n",
       " 'http://lachouquette.ch/tendances/',\n",
       " 'http://lachouquette.ch/interviews/',\n",
       " 'http://lachouquette.ch/travel/',\n",
       " 'http://lachouquette.ch/contact/']"
      ]
     },
     "execution_count": 84,
     "metadata": {},
     "output_type": "execute_result"
    }
   ],
   "source": [
    "truc = tree.xpath('//nav')\n",
    "liens = truc[0].xpath('.//a/@href')\n",
    "liens"
   ]
  },
  {
   "cell_type": "code",
   "execution_count": 85,
   "metadata": {},
   "outputs": [
    {
     "data": {
      "text/plain": [
       "'http://lachouquette.ch/'"
      ]
     },
     "execution_count": 85,
     "metadata": {},
     "output_type": "execute_result"
    }
   ],
   "source": [
    "liens.pop(-1)\n",
    "liens.pop(0)"
   ]
  },
  {
   "cell_type": "code",
   "execution_count": 86,
   "metadata": {},
   "outputs": [],
   "source": [
    "liens = [re.sub('ch/(?!.*category)','ch/category/',lien) for lien in liens]"
   ]
  },
  {
   "cell_type": "code",
   "execution_count": 87,
   "metadata": {},
   "outputs": [
    {
     "name": "stdout",
     "output_type": "stream",
     "text": [
      "http://lachouquette.ch/category/life/\n"
     ]
    }
   ],
   "source": [
    "print(liens[0])"
   ]
  },
  {
   "cell_type": "markdown",
   "metadata": {},
   "source": [
    "# Prototyping list"
   ]
  },
  {
   "cell_type": "code",
   "execution_count": 88,
   "metadata": {},
   "outputs": [],
   "source": [
    "r1 = requests.get(liens[0])"
   ]
  },
  {
   "cell_type": "code",
   "execution_count": 89,
   "metadata": {},
   "outputs": [],
   "source": [
    "tree1 = html.fromstring(r1.content)"
   ]
  },
  {
   "cell_type": "code",
   "execution_count": 90,
   "metadata": {},
   "outputs": [],
   "source": [
    "titles = tree1.xpath('//h3')"
   ]
  },
  {
   "cell_type": "code",
   "execution_count": 91,
   "metadata": {},
   "outputs": [
    {
     "data": {
      "text/plain": [
       "[['Le lac de Lioson, une balade pleine d’émotions !'],\n",
       " ['CGN + la table du Beau-Rivage Palace= une croisière inoubliable !'],\n",
       " ['Le Duo Créatif, le Duo amoureux de la pâtisserie'],\n",
       " ['Oh, qu’t’as du choix chez HOKTA, ce tea room en plein coeur de Vevey!'],\n",
       " ['La Coquette à Morges: une guinguette estivale, les pieds dans l’eau'],\n",
       " ['Les cuisines du monde sur le pouce'],\n",
       " ['Une déco stylée, deux beaux mecs et du bon café… Ça passe Crème !'],\n",
       " ['Nouri Fine Food, tu vas voir le sans gluten autrement…'],\n",
       " ['KR En Faim: sustente la soif et la faim'],\n",
       " ['Au Tranquille, je me prélasse!'],\n",
       " ['Artea, le bubble tea shop pour les grands'],\n",
       " ['Viens vivre un Instant B !'],\n",
       " ['Au Tramezzini Bar, on goûte à l’Italie, au Costa Rica… et à la flânerie!'],\n",
       " ['Neverland : la chaussure lifestyle pour les kids'],\n",
       " ['Adios «\\xa0Old El Paso\\xa0», Buenos Dias Mexicana !'],\n",
       " ['Des p’tits bols, des p’tits bols, toujours des p’tits bols au Street Kitchen Café!'],\n",
       " ['Le Balzac, une madeleine de Proust chocolatée'],\n",
       " ['Le chien bleu, la brocante qui te fait voir la vie en rose!']]"
      ]
     },
     "execution_count": 91,
     "metadata": {},
     "output_type": "execute_result"
    }
   ],
   "source": [
    "titres = [title.xpath('./a/text()') for title in titles]\n",
    "titres.pop(0)\n",
    "titres"
   ]
  },
  {
   "cell_type": "code",
   "execution_count": 92,
   "metadata": {},
   "outputs": [],
   "source": [
    "metas = tree1.xpath('//span[@class=\"entry-meta\"]/text()')"
   ]
  },
  {
   "cell_type": "code",
   "execution_count": 93,
   "metadata": {},
   "outputs": [],
   "source": [
    "dates = [re.sub('\\t','',meta) for meta in metas]\n",
    "dates = [re.sub('\\n','',date) for date in dates]\n",
    "dates = [re.sub('par','',date) for date in dates]"
   ]
  },
  {
   "cell_type": "code",
   "execution_count": 94,
   "metadata": {},
   "outputs": [],
   "source": [
    "dates_net = list()"
   ]
  },
  {
   "cell_type": "code",
   "execution_count": 95,
   "metadata": {},
   "outputs": [],
   "source": [
    "for date in dates:\n",
    "    if date != '':\n",
    "        dates_net.append(date)"
   ]
  },
  {
   "cell_type": "markdown",
   "metadata": {},
   "source": [
    "# For all"
   ]
  },
  {
   "cell_type": "code",
   "execution_count": 96,
   "metadata": {},
   "outputs": [
    {
     "name": "stdout",
     "output_type": "stream",
     "text": [
      "[[], ['Le lac de Lioson, une balade pleine d’émotions !'], ['CGN + la table du Beau-Rivage Palace= une croisière inoubliable !'], ['Le Duo Créatif, le Duo amoureux de la pâtisserie'], ['Oh, qu’t’as du choix chez HOKTA, ce tea room en plein coeur de Vevey!'], ['La Coquette à Morges: une guinguette estivale, les pieds dans l’eau'], ['Les cuisines du monde sur le pouce'], ['Une déco stylée, deux beaux mecs et du bon café… Ça passe Crème !'], ['Nouri Fine Food, tu vas voir le sans gluten autrement…'], ['KR En Faim: sustente la soif et la faim'], ['Au Tranquille, je me prélasse!'], ['Artea, le bubble tea shop pour les grands'], ['Viens vivre un Instant B !'], ['Au Tramezzini Bar, on goûte à l’Italie, au Costa Rica… et à la flânerie!'], ['Neverland : la chaussure lifestyle pour les kids'], ['Adios «\\xa0Old El Paso\\xa0», Buenos Dias Mexicana !'], ['Des p’tits bols, des p’tits bols, toujours des p’tits bols au Street Kitchen Café!'], ['Le Balzac, une madeleine de Proust chocolatée'], ['Le chien bleu, la brocante qui te fait voir la vie en rose!']]\n",
      "http://lachouquette.ch/category/life/\n",
      "['20 août 2018  ', '31 juillet 2018  ', '19 juillet 2018  ', '13 juillet 2018  ', '3 juillet 2018  ', '28 juin 2018  ', '21 juin 2018  ', '14 juin 2018  ', '12 juin 2018  ', '5 juin 2018  ', '17 mai 2018  ', '8 mai 2018  ', '1 mai 2018  ', '24 avril 2018  ', '19 avril 2018  ', '12 avril 2018  ', '10 avril 2018  ', '29 mars 2018  ']\n",
      "[]\n",
      "http://lachouquette.ch/category/sorties/\n",
      "[]\n",
      "[]\n",
      "http://lachouquette.ch/category/event/\n",
      "[]\n",
      "[[], ['Le Prix de Lausanne – concours de danse'], ['Le Karloff, république indépendante du DVD'], ['Molly & Bloom Librairie, le paradis des bibliophiles'], ['Helvetiq – la culture ludique'], ['Morges culturelle'], ['Au coeur de l’OCL, l’Orchestre de Chambre de Lausanne'], ['Les Docks : 10 ans et toutes leurs dents !'], ['Le Palais de Rumine et ses incroyables musées'], ['Norvège : la musique venue des fjords'], ['La Collection V'], ['Un tour au musée Olympique']]\n",
      "http://lachouquette.ch/category/culture/\n",
      "['26 janvier 2018  ', '25 janvier 2017  ', '16 décembre 2016  ', '1 décembre 2016  ', '19 août 2016  ', '24 juin 2016  ', '16 juin 2016  ', '10 juin 2016  ', '28 janvier 2016  ', '26 novembre 2015  ', '28 mars 2014  ']\n",
      "[[], ['Le lac de Lioson, une balade pleine d’émotions !'], ['Neverland : la chaussure lifestyle pour les kids'], ['Léo vous invite dans sa maison'], ['Ta Tribu: l’union fait la force'], ['Les trésors verts du parc de Milan'], ['Julie Chanel, fondatrice de Little Maille, tricots chics pour enfants'], ['Stations de ski suisses romandes : notre sélection pour les familles'], ['Little Mooshoo: les enfants se gâtent à Morges'], ['Met-toi au green avec tes kids'], ['Le parc Guillemin, le 3-en-1 pour tes kids'], ['Label Unicorn : pour le plaisir des enfants et des parents'], ['Interview Famille : Les 5 doigts de la main'], ['Interview famille : Charlotte et son Boys band !'], ['Des activités pour les enfants à Lausanne'], ['Interview famille : Phonsiri, Romain, Louis et Hugo'], ['Les chaussures pour enfants à Lausanne'], ['Petit Toi : au royaume de l’enfant comblé'], ['interview famille et enfants : Xavier, Francesca et Ernest']]\n",
      "http://lachouquette.ch/category/kids/\n",
      "['20 août 2018  ', '24 avril 2018  ', '15 novembre 2017  ', '20 octobre 2017  ', '21 juillet 2017  ', '1 mars 2017  ', '6 février 2017  ', '18 novembre 2016  ', '4 novembre 2016  ', '19 septembre 2016  ', '4 juillet 2016  ', '29 avril 2016  ', '22 avril 2016  ', '20 avril 2016  ', '15 avril 2016  ', '13 avril 2016  ', '11 avril 2016  ', '8 avril 2016  ']\n",
      "[[], ['Ex’Elles, l’institut de beauté qui excelle !'], ['ekkla, les luminaires qu’on attendait tous !'], ['point A couture, ta mode sur-mesure made in Lausanne !'], ['Balthazar: un lieu où rien n’est laissé au hasard!'], ['Loue ton spot chez Spot2b\\xa0!'], ['L’Etat d’âme de la rue de l’Ale'], ['Pépé Cassius ou l’art de vivre au masculin'], ['Le Café des Patronnes: les Nasty Gals de Lausanne'], ['Feel Good Yoga, du bien-être pour le corps et l’esprit'], ['La Bricotine, caverne d’Ali Baba des lausannois'], ['BEAT Fitness, la révolution sportive'], ['De la suite dans les idées: pour les grandes et les petits'], ['Bast, une galerie de bien-être à la carte'], ['Boutique Anjel’s : la mode à l’italienne à prix tout doux'], ['6 raisons d’essayer le SPA «\\xa0Cinq Mondes\\xa0» du Beau-Rivage'], ['Bijouterie Vincent Michel: le joyau de la Cité'], ['Philippe K ou la passion folle des fragrances'], ['Luxe en toute simplicité au spa du Royal Savoy']]\n",
      "http://lachouquette.ch/category/style/\n",
      "['30 août 2018  ', '1 juin 2018  ', '3 mai 2018  ', '26 avril 2018  ', '9 février 2018  ', '24 janvier 2018  ', '27 octobre 2017  ', '30 août 2017  ', '25 août 2017  ', '19 juin 2017  ', '5 mai 2017  ', '24 avril 2017  ', '12 avril 2017  ', '7 avril 2017  ', '24 mars 2017  ', '8 février 2017  ', '1 février 2017  ', '13 janvier 2017  ']\n",
      "[[], ['point A couture, ta mode sur-mesure made in Lausanne !'], ['Loue ton spot chez Spot2b\\xa0!'], ['L’Etat d’âme de la rue de l’Ale'], ['Pépé Cassius ou l’art de vivre au masculin'], ['Le Café des Patronnes: les Nasty Gals de Lausanne'], ['Boutique Anjel’s : la mode à l’italienne à prix tout doux'], ['Bijouterie Vincent Michel: le joyau de la Cité'], ['Philippe K ou la passion folle des fragrances'], ['Boutique 28, des bijoux  tout en finesse'], ['La Pédale: les spécialistes du vélo qui se plie en quatre pour toi.'], ['Little Mooshoo: les enfants se gâtent à Morges'], ['Cardas ou la caverne d’Ali-Baba rue de Bourg'], ['En particulier avec Caramel beurre salé'], ['Shopping à Morges'], ['On aime les «\\xa0Mauvais Garçon\\xa0»'], ['Walpurgis : un petit coin de dandysme'], ['Manidou, une marque remplie de douceur'], ['Les Bijoux de Jane – la création, la nature, la vie.']]\n",
      "http://lachouquette.ch/category/mode/\n",
      "['3 mai 2018  ', '9 février 2018  ', '24 janvier 2018  ', '27 octobre 2017  ', '30 août 2017  ', '7 avril 2017  ', '8 février 2017  ', '1 février 2017  ', '21 décembre 2016  ', '30 novembre 2016  ', '18 novembre 2016  ', '5 septembre 2016  ', '24 août 2016  ', '5 août 2016  ', '30 mai 2016  ', '27 mai 2016  ', '18 janvier 2016  ', '30 septembre 2015  ']\n",
      "[[], ['Balthazar: un lieu où rien n’est laissé au hasard!'], ['La Bricotine, caverne d’Ali Baba des lausannois'], ['De la suite dans les idées: pour les grandes et les petits'], ['Microtri : le recyclage comme on en rêvait'], ['Cardas ou la caverne d’Ali-Baba rue de Bourg'], ['En particulier avec Caramel beurre salé'], ['Shopping à Morges'], ['Petit Toi : au royaume de l’enfant comblé'], ['L’Attribut d’Iris – home sweet home'], ['Jamais 2 sans 3 ! : une nouvelle boutique Particules en Suspension à Lausanne'], ['Little Miss Design, par amour du design scandinave'], ['La Galerie Kissthedesign'], ['Designement Vôtre,  Uniquement Vôtre'], ['La Redoute.ch, des meubles pour ton intérieur !'], ['KéTaLa… un brin de poésie avenue de Béthusy'], ['Une Chouquette… Laurence de Gris Clair'], ['Ægon+Ægon, le chic place du Tunnel'], ['Chic Cham']]\n",
      "http://lachouquette.ch/category/deco/\n",
      "['26 avril 2018  ', '19 juin 2017  ', '24 avril 2017  ', '25 novembre 2016  ', '5 septembre 2016  ', '24 août 2016  ', '5 août 2016  ', '11 avril 2016  ', '18 mars 2016  ', '17 mars 2016  ', '9 mars 2016  ', '17 février 2016  ', '19 novembre 2015  ', '8 octobre 2015  ', '16 septembre 2015  ', '1 mai 2015  ', '16 août 2014  ', '3 novembre 2013  ']\n",
      "[]\n",
      "http://lachouquette.ch/category/bien-etre/\n",
      "[]\n",
      "[]\n",
      "http://lachouquette.ch/category/tendances/\n",
      "[]\n",
      "[[], ['ekkla, les luminaires qu’on attendait tous !'], ['point A couture, ta mode sur-mesure made in Lausanne !'], ['Avec FAIR’ACT, passe à l’acte !'], ['La cantine du 56, le vietnam se cuisine partout !'], ['ALATA, ce Vermouth aux arômes de Suisse'], ['Supermamans.ch, la plateforme qui prend soin des nouvelles mamans !'], ['le Suspendu, l’association qui mélange l’utile à l’agréable'], ['The good food artisans, 2 frères sans gluten'], ['Johan Bavaud, le maître des pass'], ['Clarity pour plus de clarté dans ta maison !'], ['Raphaël Lutz, designer ECAL et créateur d’entreprises'], ['Emilie, fondatrice du réseau d’entrepreneures «\\xa0Genuine Women\\xa0»'], ['Julie Chanel, fondatrice de Little Maille, tricots chics pour enfants'], ['Philippe K ou la passion folle des fragrances'], ['Helvetiq – la culture ludique'], ['Gaëtan, porte-parole de la Monnaie Léman'], ['À la rencontre d’Hugo, un beer lover !'], ['Les choux de la quinzaine: Docteur Gab’s']]\n",
      "http://lachouquette.ch/category/interviews/\n",
      "['1 juin 2018  ', '3 mai 2018  ', '3 avril 2018  ', '15 février 2018  ', '1 décembre 2017  ', '1 novembre 2017  ', '6 octobre 2017  ', '1 septembre 2017  ', '3 juillet 2017  ', '1 juin 2017  ', '3 mai 2017  ', '3 avril 2017  ', '1 mars 2017  ', '1 février 2017  ', '1 décembre 2016  ', '1 novembre 2016  ', '24 octobre 2016  ', '17 octobre 2016  ']\n"
     ]
    },
    {
     "name": "stdout",
     "output_type": "stream",
     "text": [
      "[[], ['Escapade dans les Alpes vaudoises au Chalet Royalp Hôtel & Spa'], ['Tiny Chalet – une mini maison à la montagne'], ['Un week-end polaire à Zurich'], ['Porto, la pépite du Douro'], ['Une journée à Brooklyn'], ['Manhattan, bons plans et résumé des quartiers !'], ['New York City, me voilà !'], ['La Chouquette du mois : Valentine, une vaudoise à New York'], ['Découvre Montréal en 2 jours'], ['Le chou du mois… Sylvain du blog «\\xa0Suisse moi\\xa0»'], ['Budapest – la reine du Danube'], ['Luang Prabang – le bijou du nord du Laos'], ['Le sud-est asiatique – en route vers le Laos !'], ['La Chouquette du mois… Beatriz Aebischer, créatrice de voyages'], ['Le top des choses à faire à Tokyo !'], ['Japon – l’ouest de Honshū'], ['5 jours à Kyoto'], ['L’essentiel pour partir au Japon']]\n",
      "http://lachouquette.ch/category/travel/\n",
      "['19 juillet 2017  ', '29 mars 2017  ', '20 février 2017  ', '7 octobre 2016  ', '30 septembre 2016  ', '23 septembre 2016  ', '16 septembre 2016  ', '1 septembre 2016  ', '17 juin 2016  ', '1 juin 2016  ', '20 mai 2016  ', '21 mars 2016  ', '4 mars 2016  ', '1 mars 2016  ', '26 février 2016  ', '19 février 2016  ', '12 février 2016  ', '5 février 2016  ']\n"
     ]
    }
   ],
   "source": [
    "for lien in liens:\n",
    "    r1 = requests.get(lien)\n",
    "    tree1 = html.fromstring(r1.content)\n",
    "    titles = tree1.xpath('//h3')\n",
    "    titres = [title.xpath('./a/text()') for title in titles]\n",
    "    #titres.pop(0)\n",
    "    print(titres)\n",
    "    metas = tree1.xpath('//span[@class=\"entry-meta\"]/text()')\n",
    "    dates = [re.sub('\\t','',meta) for meta in metas]\n",
    "    dates = [re.sub('\\n','',date) for date in dates]\n",
    "    dates = [re.sub('par','',date) for date in dates]\n",
    "    dates_net = list()\n",
    "    for date in dates:\n",
    "        if date != '':\n",
    "            dates_net.append(date)\n",
    "    print(lien)\n",
    "    print(dates_net)"
   ]
  },
  {
   "cell_type": "code",
   "execution_count": null,
   "metadata": {},
   "outputs": [],
   "source": []
  }
 ],
 "metadata": {
  "kernelspec": {
   "display_name": "Python 3",
   "language": "python",
   "name": "python3"
  },
  "language_info": {
   "codemirror_mode": {
    "name": "ipython",
    "version": 3
   },
   "file_extension": ".py",
   "mimetype": "text/x-python",
   "name": "python",
   "nbconvert_exporter": "python",
   "pygments_lexer": "ipython3",
   "version": "3.6.5"
  }
 },
 "nbformat": 4,
 "nbformat_minor": 2
}
