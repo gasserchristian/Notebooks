{
 "cells": [
  {
   "cell_type": "code",
   "execution_count": 2,
   "metadata": {},
   "outputs": [],
   "source": [
    "persons = list(['GrandjeanMartin','HumanisticaDH','yrochat','giovanni1085','frederickaplan','TimeMachineEU','dariorodighiero'])"
   ]
  },
  {
   "cell_type": "code",
   "execution_count": 3,
   "metadata": {},
   "outputs": [],
   "source": [
    "import twitter as t\n",
    "import pandas as pd\n",
    "import numpy as np\n",
    "import matplotlib as plt\n",
    "import seaborn as sns"
   ]
  },
  {
   "cell_type": "code",
   "execution_count": 4,
   "metadata": {},
   "outputs": [],
   "source": [
    "CONSUMER_KEY ='lMVbGYfXPotzwSL0nz7gxNmct'\n",
    "CONSUMER_SECRET = 'TgIfzjq0sAlxymxvXVFuNY8tBAdHuFtMlFV82YIZ865u2cI93p'\n",
    "OAUTH_TOKEN = '1007900557485502464-CQRzloyKctNmQDEyHexcofY9xf5jNn'\n",
    "OAUTH_TOKEN_SECRET = 'UYQudjgJNb51Umfpf4I2PzH0vKWTMoRO9jImK39qp10Jj'\n",
    "\n",
    "auth = t.oauth.OAuth(OAUTH_TOKEN, OAUTH_TOKEN_SECRET, CONSUMER_KEY, CONSUMER_SECRET)\n",
    "twitter_api = t.Twitter(auth=auth)"
   ]
  },
  {
   "cell_type": "code",
   "execution_count": 9,
   "metadata": {},
   "outputs": [],
   "source": [
    "results = [twitter_api.statuses.user_timeline(screen_name = person, count=200) for person in persons]"
   ]
  },
  {
   "cell_type": "markdown",
   "metadata": {},
   "source": [
    "# User analysis"
   ]
  },
  {
   "cell_type": "code",
   "execution_count": 58,
   "metadata": {},
   "outputs": [],
   "source": [
    "def f(result):\n",
    "    return pd.DataFrame([['https://twitter.com/'+item['user']['screen_name'],item['user']['location'],item['user']['description'],item['user']['followers_count'],item['user']['favourites_count'],item['user']['profile_banner_url']] for item in result])\n"
   ]
  },
  {
   "cell_type": "code",
   "execution_count": 64,
   "metadata": {},
   "outputs": [],
   "source": [
    "dfs = [f(result) for result in results]"
   ]
  },
  {
   "cell_type": "code",
   "execution_count": 65,
   "metadata": {},
   "outputs": [],
   "source": [
    "dftot = pd.concat(dfs)\n",
    "dftot = dftot.drop_duplicates()"
   ]
  },
  {
   "cell_type": "code",
   "execution_count": 66,
   "metadata": {},
   "outputs": [],
   "source": [
    "dftot.columns = pd.Index(['user','location','description','followers','favourites','background'])"
   ]
  },
  {
   "cell_type": "code",
   "execution_count": 79,
   "metadata": {},
   "outputs": [],
   "source": [
    "dftot.index = np.arange(0,dftot.shape[0])"
   ]
  },
  {
   "cell_type": "code",
   "execution_count": 99,
   "metadata": {},
   "outputs": [
    {
     "data": {
      "text/html": [
       "<div>\n",
       "<style scoped>\n",
       "    .dataframe tbody tr th:only-of-type {\n",
       "        vertical-align: middle;\n",
       "    }\n",
       "\n",
       "    .dataframe tbody tr th {\n",
       "        vertical-align: top;\n",
       "    }\n",
       "\n",
       "    .dataframe thead th {\n",
       "        text-align: right;\n",
       "    }\n",
       "</style>\n",
       "<table border=\"1\" class=\"dataframe\">\n",
       "  <thead>\n",
       "    <tr style=\"text-align: right;\">\n",
       "      <th></th>\n",
       "      <th>user</th>\n",
       "      <th>location</th>\n",
       "      <th>description</th>\n",
       "      <th>followers</th>\n",
       "      <th>favourites</th>\n",
       "      <th>background</th>\n",
       "    </tr>\n",
       "  </thead>\n",
       "  <tbody>\n",
       "    <tr>\n",
       "      <th>0</th>\n",
       "      <td>https://twitter.com/GrandjeanMartin</td>\n",
       "      <td>Switzerland</td>\n",
       "      <td>Junior Lecturer @UNIL and @EPFL • Dr Contempor...</td>\n",
       "      <td>17323</td>\n",
       "      <td>9888</td>\n",
       "      <td>https://pbs.twimg.com/profile_banners/36968904...</td>\n",
       "    </tr>\n",
       "    <tr>\n",
       "      <th>4</th>\n",
       "      <td>https://twitter.com/frederickaplan</td>\n",
       "      <td>Lausanne</td>\n",
       "      <td>Prof in Digital Humanities at EPFL https://t.c...</td>\n",
       "      <td>5638</td>\n",
       "      <td>44</td>\n",
       "      <td>https://pbs.twimg.com/profile_banners/10161492...</td>\n",
       "    </tr>\n",
       "    <tr>\n",
       "      <th>2</th>\n",
       "      <td>https://twitter.com/yrochat</td>\n",
       "      <td>Lausanne, Switzerland</td>\n",
       "      <td>«chercheur»</td>\n",
       "      <td>2778</td>\n",
       "      <td>59583</td>\n",
       "      <td>https://pbs.twimg.com/profile_banners/15516583...</td>\n",
       "    </tr>\n",
       "    <tr>\n",
       "      <th>1</th>\n",
       "      <td>https://twitter.com/HumanisticaDH</td>\n",
       "      <td>Francophonie</td>\n",
       "      <td>Association francophone des humanités numériqu...</td>\n",
       "      <td>2450</td>\n",
       "      <td>151</td>\n",
       "      <td>https://pbs.twimg.com/profile_banners/25433125...</td>\n",
       "    </tr>\n",
       "    <tr>\n",
       "      <th>6</th>\n",
       "      <td>https://twitter.com/dariorodighiero</td>\n",
       "      <td>Lausanne, Switzerland</td>\n",
       "      <td>Digital Humanist deeply versed in design pract...</td>\n",
       "      <td>948</td>\n",
       "      <td>2647</td>\n",
       "      <td>https://pbs.twimg.com/profile_banners/87419607...</td>\n",
       "    </tr>\n",
       "    <tr>\n",
       "      <th>5</th>\n",
       "      <td>https://twitter.com/TimeMachineEU</td>\n",
       "      <td></td>\n",
       "      <td>Digitally simulating 5000 years of European hi...</td>\n",
       "      <td>390</td>\n",
       "      <td>29</td>\n",
       "      <td>https://pbs.twimg.com/profile_banners/10040430...</td>\n",
       "    </tr>\n",
       "    <tr>\n",
       "      <th>3</th>\n",
       "      <td>https://twitter.com/giovanni1085</td>\n",
       "      <td>London, England</td>\n",
       "      <td>Senior research data scientist @turinginst, Co...</td>\n",
       "      <td>148</td>\n",
       "      <td>521</td>\n",
       "      <td>https://pbs.twimg.com/profile_banners/10156815...</td>\n",
       "    </tr>\n",
       "  </tbody>\n",
       "</table>\n",
       "</div>"
      ],
      "text/plain": [
       "                                  user               location  \\\n",
       "0  https://twitter.com/GrandjeanMartin            Switzerland   \n",
       "4   https://twitter.com/frederickaplan               Lausanne   \n",
       "2          https://twitter.com/yrochat  Lausanne, Switzerland   \n",
       "1    https://twitter.com/HumanisticaDH           Francophonie   \n",
       "6  https://twitter.com/dariorodighiero  Lausanne, Switzerland   \n",
       "5    https://twitter.com/TimeMachineEU                          \n",
       "3     https://twitter.com/giovanni1085        London, England   \n",
       "\n",
       "                                         description  followers  favourites  \\\n",
       "0  Junior Lecturer @UNIL and @EPFL • Dr Contempor...      17323        9888   \n",
       "4  Prof in Digital Humanities at EPFL https://t.c...       5638          44   \n",
       "2                                        «chercheur»       2778       59583   \n",
       "1  Association francophone des humanités numériqu...       2450         151   \n",
       "6  Digital Humanist deeply versed in design pract...        948        2647   \n",
       "5  Digitally simulating 5000 years of European hi...        390          29   \n",
       "3  Senior research data scientist @turinginst, Co...        148         521   \n",
       "\n",
       "                                          background  \n",
       "0  https://pbs.twimg.com/profile_banners/36968904...  \n",
       "4  https://pbs.twimg.com/profile_banners/10161492...  \n",
       "2  https://pbs.twimg.com/profile_banners/15516583...  \n",
       "1  https://pbs.twimg.com/profile_banners/25433125...  \n",
       "6  https://pbs.twimg.com/profile_banners/87419607...  \n",
       "5  https://pbs.twimg.com/profile_banners/10040430...  \n",
       "3  https://pbs.twimg.com/profile_banners/10156815...  "
      ]
     },
     "execution_count": 99,
     "metadata": {},
     "output_type": "execute_result"
    }
   ],
   "source": [
    "dftot.sort_values(by='followers',ascending=False)"
   ]
  },
  {
   "cell_type": "markdown",
   "metadata": {},
   "source": [
    "# Hashtag analysis"
   ]
  },
  {
   "cell_type": "code",
   "execution_count": 147,
   "metadata": {},
   "outputs": [],
   "source": [
    "'''for result in results:\n",
    "    for item in result:\n",
    "        for hashtag in item['entities']['hashtags']:\n",
    "            print(hashtag['text'])'''\n",
    "df_hashtag = pd.DataFrame([hashtag['text'] for result in results for item in result for hashtag in item['entities']['hashtags']])"
   ]
  },
  {
   "cell_type": "code",
   "execution_count": 143,
   "metadata": {
    "scrolled": false
   },
   "outputs": [
    {
     "name": "stdout",
     "output_type": "stream",
     "text": [
      "['a', 'b', 'c', 'd', 'e', 'f', 'g', 'h', 'i']\n",
      "['a', 'b', 'c', 'd', 'e', 'f', 'g', 'h', 'i']\n"
     ]
    }
   ],
   "source": [
    "# pedagogic purpose :\n",
    "'''b = [['abc'],['def'],['ghi']]\n",
    "test = list()\n",
    "for a in b:\n",
    "    for c in a:\n",
    "        for d in c:\n",
    "            test.append(d)\n",
    "print(test)  \n",
    "print([d for a in b for c in a for d in c])'''"
   ]
  },
  {
   "cell_type": "code",
   "execution_count": 182,
   "metadata": {},
   "outputs": [],
   "source": [
    "df_hashtag = pd.DataFrame([[hashtag['text'],item['user']['name'],item['retweet_count'],item['favorite_count']] for result in results for item in result for hashtag in item['entities']['hashtags']])"
   ]
  },
  {
   "cell_type": "code",
   "execution_count": 183,
   "metadata": {},
   "outputs": [],
   "source": [
    "hashtagdata = df_hashtag.groupby(0).mean().sort_values(by=2, ascending=False).sort_index()"
   ]
  },
  {
   "cell_type": "code",
   "execution_count": 185,
   "metadata": {},
   "outputs": [],
   "source": [
    "hashtagdata['size'] = df_hashtag[0].value_counts().sort_index()\n",
    "hashtagdata.columns = pd.Index(['retweet','favourite','size'])"
   ]
  },
  {
   "cell_type": "code",
   "execution_count": 197,
   "metadata": {},
   "outputs": [
    {
     "data": {
      "text/plain": [
       "<matplotlib.axes._subplots.AxesSubplot at 0x156229f53c8>"
      ]
     },
     "execution_count": 197,
     "metadata": {},
     "output_type": "execute_result"
    },
    {
     "data": {
      "image/png": "[encoded data removed]",
      "text/plain": [
       "<Figure size 432x288 with 1 Axes>"
      ]
     },
     "metadata": {},
     "output_type": "display_data"
    }
   ],
   "source": [
    "hashtagdata.plot.scatter(x='retweet',y='favourite',s=hashtagdata['size']*100,alpha=0.2)"
   ]
  },
  {
   "cell_type": "code",
   "execution_count": 198,
   "metadata": {},
   "outputs": [
    {
     "data": {
      "text/html": [
       "<div>\n",
       "<style scoped>\n",
       "    .dataframe tbody tr th:only-of-type {\n",
       "        vertical-align: middle;\n",
       "    }\n",
       "\n",
       "    .dataframe tbody tr th {\n",
       "        vertical-align: top;\n",
       "    }\n",
       "\n",
       "    .dataframe thead th {\n",
       "        text-align: right;\n",
       "    }\n",
       "</style>\n",
       "<table border=\"1\" class=\"dataframe\">\n",
       "  <thead>\n",
       "    <tr style=\"text-align: right;\">\n",
       "      <th></th>\n",
       "      <th>retweet</th>\n",
       "      <th>favourite</th>\n",
       "      <th>size</th>\n",
       "    </tr>\n",
       "    <tr>\n",
       "      <th>0</th>\n",
       "      <th></th>\n",
       "      <th></th>\n",
       "      <th></th>\n",
       "    </tr>\n",
       "  </thead>\n",
       "  <tbody>\n",
       "    <tr>\n",
       "      <th>DH2018</th>\n",
       "      <td>37.333333</td>\n",
       "      <td>21.611111</td>\n",
       "      <td>18</td>\n",
       "    </tr>\n",
       "    <tr>\n",
       "      <th>DHLAB</th>\n",
       "      <td>13.666667</td>\n",
       "      <td>22.000000</td>\n",
       "      <td>3</td>\n",
       "    </tr>\n",
       "    <tr>\n",
       "      <th>Replica</th>\n",
       "      <td>8.000000</td>\n",
       "      <td>22.500000</td>\n",
       "      <td>2</td>\n",
       "    </tr>\n",
       "    <tr>\n",
       "      <th>Warhol</th>\n",
       "      <td>11.000000</td>\n",
       "      <td>23.000000</td>\n",
       "      <td>1</td>\n",
       "    </tr>\n",
       "    <tr>\n",
       "      <th>digitise</th>\n",
       "      <td>11.000000</td>\n",
       "      <td>23.000000</td>\n",
       "      <td>1</td>\n",
       "    </tr>\n",
       "  </tbody>\n",
       "</table>\n",
       "</div>"
      ],
      "text/plain": [
       "            retweet  favourite  size\n",
       "0                                   \n",
       "DH2018    37.333333  21.611111    18\n",
       "DHLAB     13.666667  22.000000     3\n",
       "Replica    8.000000  22.500000     2\n",
       "Warhol    11.000000  23.000000     1\n",
       "digitise  11.000000  23.000000     1"
      ]
     },
     "execution_count": 198,
     "metadata": {},
     "output_type": "execute_result"
    }
   ],
   "source": [
    "hashtagdata[(hashtagdata['favourite']>20)&(hashtagdata['favourite']<25)]"
   ]
  },
  {
   "cell_type": "code",
   "execution_count": null,
   "metadata": {},
   "outputs": [],
   "source": []
  }
 ],
 "metadata": {
  "kernelspec": {
   "display_name": "Python 3",
   "language": "python",
   "name": "python3"
  },
  "language_info": {
   "codemirror_mode": {
    "name": "ipython",
    "version": 3
   },
   "file_extension": ".py",
   "mimetype": "text/x-python",
   "name": "python",
   "nbconvert_exporter": "python",
   "pygments_lexer": "ipython3",
   "version": "3.6.5"
  }
 },
 "nbformat": 4,
 "nbformat_minor": 2
}
