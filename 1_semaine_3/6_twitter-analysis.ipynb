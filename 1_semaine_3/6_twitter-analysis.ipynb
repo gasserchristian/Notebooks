{
 "cells": [
  {
   "cell_type": "markdown",
   "metadata": {},
   "source": [
    "# Response Architecture"
   ]
  },
  {
   "cell_type": "code",
   "execution_count": 70,
   "metadata": {
    "scrolled": true
   },
   "outputs": [
    {
     "data": {
      "text/html": [
       "<table>\n",
       "    <tr>\n",
       "        <td rowspan='60'>0</td><td>created_at</td><td>Wed Aug 29 20:54:18 +0000 2018</td>\n",
       "    </tr>\n",
       "    <tr>\n",
       "        <td>id</td><td>1034907117004775424</td>\n",
       "    </tr>\n",
       "    <tr>\n",
       "        <td>id_str</td><td>1034907117004775424</td>\n",
       "    </tr>\n",
       "    <tr>\n",
       "        <td>text</td><td>Très belle chronique de @Virginie_Nb  qui regarde la mort en face sur YouTube, celle qui lui donne envie de vivre… https://t.co/09HeBk0A9f</td>\n",
       "    </tr>\n",
       "    <tr>\n",
       "        <td>truncated</td><td>True</td>\n",
       "    </tr>\n",
       "    <tr>\n",
       "        <td rowspan=\"4\">entities</td><td>hashtags</td><td>[{'text': 'AllezLesBleus', 'indices': [26, 40]}, {'text': 'WorldCup18', 'indices': [41, 52]}]</td>\n",
       "    </tr>\n",
       "    <tr>\n",
       "        <td>symbols</td>\n",
       "    </tr>\n",
       "    <tr>\n",
       "        <td>user_mentions</td><td>[{'screen_name': 'marcrenfer', 'name': 'Marc Renfer', 'id': 118976970, 'id_str': '118976970', 'indices': [3, 14]}]</td>\n",
       "    </tr>\n",
       "    <tr>\n",
       "        <td>urls</td><td>[{'url': 'https://t.co/EA2XKJECY2', 'expanded_url': 'https://twitter.com/i/web/status/1016232282112356352', 'display_url': 'twitter.com/i/web/status/1…', 'indices': [116, 139]}]</td>\n",
       "    </tr>\n",
       "    <tr>\n",
       "        <td>sources</td><td><a href=\"http://twitter.com/download/iphone\" rel=\"nofollow\">Twitter for iPhone</a>\n",
       "<a href=\"http://twitter.com\" rel=\"nofollow\">Twitter Web Client</a></td>\n",
       "    </tr>\n",
       "    <tr>\n",
       "        <td>in_reply_to_status_id</td><td>1025036853597163522</td>\n",
       "    </tr>\n",
       "    <tr>\n",
       "        <td>in_reply_to_status_id_str</td>\n",
       "    </tr>\n",
       "    <tr>\n",
       "        <td>in_reply_to_user_id</td><td>2841132017</td>\n",
       "    </tr>\n",
       "    <tr>\n",
       "        <td>in_reply_to_screen_name</td><td>SylvainBesson</td>\n",
       "    </tr>\n",
       "    <tr>\n",
       "        <td rowspan=\"34\">user</td><td>id</td>\n",
       "    </tr>\n",
       "    <tr>\n",
       "        <td>id_str</td>\n",
       "    </tr>\n",
       "    <tr>\n",
       "        <td>name</td>\n",
       "    </tr>\n",
       "    <tr>\n",
       "        <td>screen_name</td>\n",
       "    </tr>\n",
       "    <tr>\n",
       "        <td>location</td>\n",
       "    </tr>\n",
       "    <tr>\n",
       "        <td>description</td>\n",
       "    </tr>\n",
       "    <tr>\n",
       "        <td>url</td>\n",
       "    </tr>\n",
       "    <tr>\n",
       "        <td>entities</td>\n",
       "    </tr>\n",
       "    <tr>\n",
       "        <td>protected</td>\n",
       "    </tr>\n",
       "    <tr>\n",
       "        <td>followers_count</td>\n",
       "    </tr>\n",
       "    <tr>\n",
       "        <td>friends_count</td>\n",
       "    </tr>\n",
       "    <tr>\n",
       "        <td>listed_count</td>\n",
       "    </tr>\n",
       "    <tr>\n",
       "        <td>created_at</td>\n",
       "    </tr>\n",
       "    <tr>\n",
       "        <td>favourites_count</td>\n",
       "    </tr>\n",
       "    <tr>\n",
       "        <td>utc_offset</td>\n",
       "    </tr>\n",
       "    <tr>\n",
       "        <td>time_zone</td>\n",
       "    </tr>\n",
       "    <tr>\n",
       "        <td>geo_enabled</td>\n",
       "    </tr>\n",
       "    <tr>\n",
       "        <td>verified</td>\n",
       "    </tr>\n",
       "    <tr>\n",
       "        <td>statuses_count</td>\n",
       "    </tr>\n",
       "    <tr>\n",
       "        <td>lang</td>\n",
       "    </tr>\n",
       "    <tr>\n",
       "        <td>statuses_count</td>\n",
       "    </tr>\n",
       "    <tr>\n",
       "        <td>contributors_enabled</td>\n",
       "    </tr>\n",
       "    <tr>\n",
       "        <td>is_translator</td>\n",
       "    </tr>\n",
       "    <tr>\n",
       "        <td>is_translation_enabled</td>\n",
       "    </tr>\n",
       "    <tr>\n",
       "        <td>profile_background_color</td>\n",
       "    </tr>\n",
       "    <tr>\n",
       "        <td>profile_background_image_url</td>\n",
       "    </tr>\n",
       "    <tr>\n",
       "        <td>profile_background_image_url</td>\n",
       "    </tr>\n",
       "    <tr>\n",
       "        <td>profile_background_image_url_https</td>\n",
       "    </tr>\n",
       "    <tr>\n",
       "        <td>profile_background_tile</td>\n",
       "    </tr>\n",
       "    <tr>\n",
       "        <td>profile_image_url</td>\n",
       "    <tr>\n",
       "        <td>profile_image_url_https</td>\n",
       "    </tr>\n",
       "    <tr>\n",
       "        <td>following</td>\n",
       "    </tr>\n",
       "    <tr>\n",
       "        <td>follow_request_sent</td>\n",
       "    </tr>\n",
       "    <tr>\n",
       "        <td>notifications</td>\n",
       "    </tr>\n",
       "    <tr>\n",
       "        <td>geo</td>\n",
       "    </tr>\n",
       "    <tr>\n",
       "        <td>coordinates</td>\n",
       "    </tr>\n",
       "    <tr>\n",
       "        <td>place</td>\n",
       "    </tr>\n",
       "    </tr>\n",
       "    <tr>\n",
       "        <td>contributors</td>\n",
       "    </tr>\n",
       "    </tr>\n",
       "    <tr>\n",
       "        <td>place</td>\n",
       "    </tr>\n",
       "    </tr>\n",
       "    <tr>\n",
       "        <td>is_quote_status</td>\n",
       "    </tr>\n",
       "    </tr>\n",
       "    <tr>\n",
       "        <td>place</td>\n",
       "    </tr>\n",
       "    </tr>\n",
       "    <tr>\n",
       "        <td>retweet_count</td>\n",
       "    </tr>\n",
       "    <tr>\n",
       "        <td>favorited</td>\n",
       "    </tr>\n",
       "    <tr>\n",
       "        <td>retweet_count</td>\n",
       "    </tr>\n",
       "    <tr>\n",
       "        <td>retweeted</td>\n",
       "    </tr>\n",
       "    <tr>\n",
       "        <td>retweet_count</td>\n",
       "    </tr>\n",
       "    <tr>\n",
       "        <td>possibly_sensitive</td>\n",
       "    </tr>\n",
       "    <tr>\n",
       "        <td>lang</td>\n",
       "    </tr>\n",
       "</table>"
      ],
      "text/plain": [
       "<IPython.core.display.HTML object>"
      ]
     },
     "metadata": {},
     "output_type": "display_data"
    }
   ],
   "source": [
    "%%HTML\n",
    "<table>\n",
    "    <tr>\n",
    "        <td rowspan='60'>0</td><td>created_at</td><td>Wed Aug 29 20:54:18 +0000 2018</td>\n",
    "    </tr>\n",
    "    <tr>\n",
    "        <td>id</td><td>1034907117004775424</td>\n",
    "    </tr>\n",
    "    <tr>\n",
    "        <td>id_str</td><td>1034907117004775424</td>\n",
    "    </tr>\n",
    "    <tr>\n",
    "        <td>text</td><td>Très belle chronique de @Virginie_Nb  qui regarde la mort en face sur YouTube, celle qui lui donne envie de vivre… https://t.co/09HeBk0A9f</td>\n",
    "    </tr>\n",
    "    <tr>\n",
    "        <td>truncated</td><td>True</td>\n",
    "    </tr>\n",
    "    <tr>\n",
    "        <td rowspan=\"4\">entities</td><td>hashtags</td><td>[{'text': 'AllezLesBleus', 'indices': [26, 40]}, {'text': 'WorldCup18', 'indices': [41, 52]}]</td>\n",
    "    </tr>\n",
    "    <tr>\n",
    "        <td>symbols</td>\n",
    "    </tr>\n",
    "    <tr>\n",
    "        <td>user_mentions</td><td>[{'screen_name': 'marcrenfer', 'name': 'Marc Renfer', 'id': 118976970, 'id_str': '118976970', 'indices': [3, 14]}]</td>\n",
    "    </tr>\n",
    "    <tr>\n",
    "        <td>urls</td><td>[{'url': 'https://t.co/EA2XKJECY2', 'expanded_url': 'https://twitter.com/i/web/status/1016232282112356352', 'display_url': 'twitter.com/i/web/status/1…', 'indices': [116, 139]}]</td>\n",
    "    </tr>\n",
    "    <tr>\n",
    "        <td>sources</td><td><a href=\"http://twitter.com/download/iphone\" rel=\"nofollow\">Twitter for iPhone</a>\n",
    "<a href=\"http://twitter.com\" rel=\"nofollow\">Twitter Web Client</a></td>\n",
    "    </tr>\n",
    "    <tr>\n",
    "        <td>in_reply_to_status_id</td><td>1025036853597163522</td>\n",
    "    </tr>\n",
    "    <tr>\n",
    "        <td>in_reply_to_status_id_str</td>\n",
    "    </tr>\n",
    "    <tr>\n",
    "        <td>in_reply_to_user_id</td><td>2841132017</td>\n",
    "    </tr>\n",
    "    <tr>\n",
    "        <td>in_reply_to_screen_name</td><td>SylvainBesson</td>\n",
    "    </tr>\n",
    "    <tr>\n",
    "        <td rowspan=\"34\">user</td><td>id</td>\n",
    "    </tr>\n",
    "    <tr>\n",
    "        <td>id_str</td>\n",
    "    </tr>\n",
    "    <tr>\n",
    "        <td>name</td>\n",
    "    </tr>\n",
    "    <tr>\n",
    "        <td>screen_name</td>\n",
    "    </tr>\n",
    "    <tr>\n",
    "        <td>location</td>\n",
    "    </tr>\n",
    "    <tr>\n",
    "        <td>description</td>\n",
    "    </tr>\n",
    "    <tr>\n",
    "        <td>url</td>\n",
    "    </tr>\n",
    "    <tr>\n",
    "        <td>entities</td>\n",
    "    </tr>\n",
    "    <tr>\n",
    "        <td>protected</td>\n",
    "    </tr>\n",
    "    <tr>\n",
    "        <td>followers_count</td>\n",
    "    </tr>\n",
    "    <tr>\n",
    "        <td>friends_count</td>\n",
    "    </tr>\n",
    "    <tr>\n",
    "        <td>listed_count</td>\n",
    "    </tr>\n",
    "    <tr>\n",
    "        <td>created_at</td>\n",
    "    </tr>\n",
    "    <tr>\n",
    "        <td>favourites_count</td>\n",
    "    </tr>\n",
    "    <tr>\n",
    "        <td>utc_offset</td>\n",
    "    </tr>\n",
    "    <tr>\n",
    "        <td>time_zone</td>\n",
    "    </tr>\n",
    "    <tr>\n",
    "        <td>geo_enabled</td>\n",
    "    </tr>\n",
    "    <tr>\n",
    "        <td>verified</td>\n",
    "    </tr>\n",
    "    <tr>\n",
    "        <td>statuses_count</td>\n",
    "    </tr>\n",
    "    <tr>\n",
    "        <td>lang</td>\n",
    "    </tr>\n",
    "    <tr>\n",
    "        <td>statuses_count</td>\n",
    "    </tr>\n",
    "    <tr>\n",
    "        <td>contributors_enabled</td>\n",
    "    </tr>\n",
    "    <tr>\n",
    "        <td>is_translator</td>\n",
    "    </tr>\n",
    "    <tr>\n",
    "        <td>is_translation_enabled</td>\n",
    "    </tr>\n",
    "    <tr>\n",
    "        <td>profile_background_color</td>\n",
    "    </tr>\n",
    "    <tr>\n",
    "        <td>profile_background_image_url</td>\n",
    "    </tr>\n",
    "    <tr>\n",
    "        <td>profile_background_image_url</td>\n",
    "    </tr>\n",
    "    <tr>\n",
    "        <td>profile_background_image_url_https</td>\n",
    "    </tr>\n",
    "    <tr>\n",
    "        <td>profile_background_tile</td>\n",
    "    </tr>\n",
    "    <tr>\n",
    "        <td>profile_image_url</td>\n",
    "    <tr>\n",
    "        <td>profile_image_url_https</td>\n",
    "    </tr>\n",
    "    <tr>\n",
    "        <td>following</td>\n",
    "    </tr>\n",
    "    <tr>\n",
    "        <td>follow_request_sent</td>\n",
    "    </tr>\n",
    "    <tr>\n",
    "        <td>notifications</td>\n",
    "    </tr>\n",
    "    <tr>\n",
    "        <td>geo</td>\n",
    "    </tr>\n",
    "    <tr>\n",
    "        <td>coordinates</td>\n",
    "    </tr>\n",
    "    <tr>\n",
    "        <td>place</td>\n",
    "    </tr>\n",
    "    </tr>\n",
    "    <tr>\n",
    "        <td>contributors</td>\n",
    "    </tr>\n",
    "    </tr>\n",
    "    <tr>\n",
    "        <td>place</td>\n",
    "    </tr>\n",
    "    </tr>\n",
    "    <tr>\n",
    "        <td>is_quote_status</td>\n",
    "    </tr>\n",
    "    </tr>\n",
    "    <tr>\n",
    "        <td>place</td>\n",
    "    </tr>\n",
    "    </tr>\n",
    "    <tr>\n",
    "        <td>retweet_count</td>\n",
    "    </tr>\n",
    "    <tr>\n",
    "        <td>favorited</td>\n",
    "    </tr>\n",
    "    <tr>\n",
    "        <td>retweet_count</td>\n",
    "    </tr>\n",
    "    <tr>\n",
    "        <td>retweeted</td>\n",
    "    </tr>\n",
    "    <tr>\n",
    "        <td>retweet_count</td>\n",
    "    </tr>\n",
    "    <tr>\n",
    "        <td>possibly_sensitive</td>\n",
    "    </tr>\n",
    "    <tr>\n",
    "        <td>lang</td>\n",
    "    </tr>\n",
    "</table>"
   ]
  },
  {
   "cell_type": "code",
   "execution_count": 2,
   "metadata": {},
   "outputs": [],
   "source": [
    "import twitter as t\n",
    "import pandas as pd\n",
    "import numpy as np\n",
    "import matplotlib as plt"
   ]
  },
  {
   "cell_type": "code",
   "execution_count": 3,
   "metadata": {},
   "outputs": [],
   "source": [
    "CONSUMER_KEY ='lMVbGYfXPotzwSL0nz7gxNmct'\n",
    "CONSUMER_SECRET = 'TgIfzjq0sAlxymxvXVFuNY8tBAdHuFtMlFV82YIZ865u2cI93p'\n",
    "OAUTH_TOKEN = '1007900557485502464-CQRzloyKctNmQDEyHexcofY9xf5jNn'\n",
    "OAUTH_TOKEN_SECRET = 'UYQudjgJNb51Umfpf4I2PzH0vKWTMoRO9jImK39qp10Jj'"
   ]
  },
  {
   "cell_type": "code",
   "execution_count": 4,
   "metadata": {},
   "outputs": [],
   "source": [
    "auth = t.oauth.OAuth(OAUTH_TOKEN, OAUTH_TOKEN_SECRET, CONSUMER_KEY, CONSUMER_SECRET)\n",
    "twitter_api = t.Twitter(auth=auth)"
   ]
  },
  {
   "cell_type": "code",
   "execution_count": 103,
   "metadata": {},
   "outputs": [],
   "source": [
    "#results = twitter_api.statuses.user_timeline(screen_name = 'AinaSkjellaug', count=200)\n",
    "results = twitter_api.statuses.user_timeline(screen_name = 'Couleur3', count=200)"
   ]
  },
  {
   "cell_type": "code",
   "execution_count": 104,
   "metadata": {},
   "outputs": [],
   "source": [
    "dataset = pd.DataFrame([[result['retweet_count'],result['favorite_count'],result['text'],result['in_reply_to_screen_name'],result['lang'],result['created_at']] for result in results])"
   ]
  },
  {
   "cell_type": "code",
   "execution_count": 105,
   "metadata": {},
   "outputs": [
    {
     "data": {
      "text/plain": [
       "'for key, item in results[0].items():\\n    print(key)'"
      ]
     },
     "execution_count": 105,
     "metadata": {},
     "output_type": "execute_result"
    }
   ],
   "source": [
    "'''for key, item in results[0].items():\n",
    "    print(key)'''"
   ]
  },
  {
   "cell_type": "code",
   "execution_count": 106,
   "metadata": {},
   "outputs": [],
   "source": [
    "dataset.columns = ['retweet count','favorite count', 'text', 'in reply to','lang','date']"
   ]
  },
  {
   "cell_type": "code",
   "execution_count": 107,
   "metadata": {},
   "outputs": [],
   "source": [
    "dataset['date'] = pd.to_datetime(dataset['date'])\n",
    "dataset['date int'] = dataset['date'].astype(np.int64)"
   ]
  },
  {
   "cell_type": "code",
   "execution_count": 108,
   "metadata": {},
   "outputs": [],
   "source": [
    "size = (dataset['date int']-dataset['date int'].min())/(dataset['date int'].max()-dataset['date int'].min())"
   ]
  },
  {
   "cell_type": "code",
   "execution_count": 109,
   "metadata": {},
   "outputs": [
    {
     "data": {
      "image/png": "[encoded data removed]",
      "text/plain": [
       "<Figure size 1440x720 with 2 Axes>"
      ]
     },
     "metadata": {},
     "output_type": "display_data"
    }
   ],
   "source": [
    "fig = plt.figure\n",
    "ax = dataset.plot.scatter(x='favorite count',y='retweet count',figsize=(20,10), c=size,cmap='autumn')"
   ]
  },
  {
   "cell_type": "code",
   "execution_count": 110,
   "metadata": {},
   "outputs": [
    {
     "data": {
      "text/html": [
       "<div>\n",
       "<style scoped>\n",
       "    .dataframe tbody tr th:only-of-type {\n",
       "        vertical-align: middle;\n",
       "    }\n",
       "\n",
       "    .dataframe tbody tr th {\n",
       "        vertical-align: top;\n",
       "    }\n",
       "\n",
       "    .dataframe thead th {\n",
       "        text-align: right;\n",
       "    }\n",
       "</style>\n",
       "<table border=\"1\" class=\"dataframe\">\n",
       "  <thead>\n",
       "    <tr style=\"text-align: right;\">\n",
       "      <th></th>\n",
       "      <th>retweet count</th>\n",
       "      <th>favorite count</th>\n",
       "      <th>text</th>\n",
       "      <th>in reply to</th>\n",
       "      <th>lang</th>\n",
       "      <th>date</th>\n",
       "      <th>date int</th>\n",
       "    </tr>\n",
       "  </thead>\n",
       "  <tbody>\n",
       "    <tr>\n",
       "      <th>0</th>\n",
       "      <td>0</td>\n",
       "      <td>1</td>\n",
       "      <td>Le ciel est à l'image de nos âmes, c'est la de...</td>\n",
       "      <td>None</td>\n",
       "      <td>fr</td>\n",
       "      <td>2018-08-30 13:45:00</td>\n",
       "      <td>1535636700000000000</td>\n",
       "    </tr>\n",
       "    <tr>\n",
       "      <th>1</th>\n",
       "      <td>0</td>\n",
       "      <td>0</td>\n",
       "      <td>Les cultures #urbaines, des morceaux qu'on est...</td>\n",
       "      <td>None</td>\n",
       "      <td>fr</td>\n",
       "      <td>2018-08-30 09:45:00</td>\n",
       "      <td>1535622300000000000</td>\n",
       "    </tr>\n",
       "    <tr>\n",
       "      <th>2</th>\n",
       "      <td>1</td>\n",
       "      <td>0</td>\n",
       "      <td>Le pigeon voyageur très con est arrivé au bout...</td>\n",
       "      <td>None</td>\n",
       "      <td>fr</td>\n",
       "      <td>2018-08-30 08:30:00</td>\n",
       "      <td>1535617800000000000</td>\n",
       "    </tr>\n",
       "    <tr>\n",
       "      <th>3</th>\n",
       "      <td>0</td>\n",
       "      <td>0</td>\n",
       "      <td>@Julien_tas Salut Julien ! Malheureusement pas...</td>\n",
       "      <td>Julien_tas</td>\n",
       "      <td>fr</td>\n",
       "      <td>2018-08-30 07:38:52</td>\n",
       "      <td>1535614732000000000</td>\n",
       "    </tr>\n",
       "    <tr>\n",
       "      <th>4</th>\n",
       "      <td>1</td>\n",
       "      <td>3</td>\n",
       "      <td>\"La #domotique, c'est le fait d'automatiser ce...</td>\n",
       "      <td>None</td>\n",
       "      <td>fr</td>\n",
       "      <td>2018-08-30 07:00:00</td>\n",
       "      <td>1535612400000000000</td>\n",
       "    </tr>\n",
       "  </tbody>\n",
       "</table>\n",
       "</div>"
      ],
      "text/plain": [
       "   retweet count  favorite count  \\\n",
       "0              0               1   \n",
       "1              0               0   \n",
       "2              1               0   \n",
       "3              0               0   \n",
       "4              1               3   \n",
       "\n",
       "                                                text in reply to lang  \\\n",
       "0  Le ciel est à l'image de nos âmes, c'est la de...        None   fr   \n",
       "1  Les cultures #urbaines, des morceaux qu'on est...        None   fr   \n",
       "2  Le pigeon voyageur très con est arrivé au bout...        None   fr   \n",
       "3  @Julien_tas Salut Julien ! Malheureusement pas...  Julien_tas   fr   \n",
       "4  \"La #domotique, c'est le fait d'automatiser ce...        None   fr   \n",
       "\n",
       "                 date             date int  \n",
       "0 2018-08-30 13:45:00  1535636700000000000  \n",
       "1 2018-08-30 09:45:00  1535622300000000000  \n",
       "2 2018-08-30 08:30:00  1535617800000000000  \n",
       "3 2018-08-30 07:38:52  1535614732000000000  \n",
       "4 2018-08-30 07:00:00  1535612400000000000  "
      ]
     },
     "execution_count": 110,
     "metadata": {},
     "output_type": "execute_result"
    }
   ],
   "source": [
    "dataset.head()"
   ]
  },
  {
   "cell_type": "code",
   "execution_count": 111,
   "metadata": {},
   "outputs": [],
   "source": [
    "dataset['date'].map(lambda x: x.day)\n",
    "data_august = dataset[dataset['date']>'2018-08-01 00:33:29'].copy()"
   ]
  },
  {
   "cell_type": "code",
   "execution_count": 112,
   "metadata": {},
   "outputs": [],
   "source": [
    "data_august['date'] = data_august['date'].map(lambda x: x.day)"
   ]
  },
  {
   "cell_type": "code",
   "execution_count": 113,
   "metadata": {},
   "outputs": [],
   "source": [
    "import seaborn as sns"
   ]
  },
  {
   "cell_type": "code",
   "execution_count": 114,
   "metadata": {},
   "outputs": [
    {
     "data": {
      "text/plain": [
       "<seaborn.axisgrid.PairGrid at 0x1713706ae10>"
      ]
     },
     "execution_count": 114,
     "metadata": {},
     "output_type": "execute_result"
    },
    {
     "data": {
      "image/png": "[encoded data removed]",
      "text/plain": [
       "<Figure size 540x540 with 12 Axes>"
      ]
     },
     "metadata": {},
     "output_type": "display_data"
    }
   ],
   "source": [
    "sns.pairplot(data_august[['retweet count','favorite count', 'date']],diag_kind='kde',plot_kws={'alpha':0.2})"
   ]
  },
  {
   "cell_type": "code",
   "execution_count": 122,
   "metadata": {},
   "outputs": [
    {
     "data": {
      "text/plain": [
       "<seaborn.axisgrid.FacetGrid at 0x1713e2a4470>"
      ]
     },
     "execution_count": 122,
     "metadata": {},
     "output_type": "execute_result"
    },
    {
     "data": {
      "image/png": "[encoded data removed]",
      "text/plain": [
       "<Figure size 288x288 with 1 Axes>"
      ]
     },
     "metadata": {},
     "output_type": "display_data"
    }
   ],
   "source": [
    "sns.factorplot(x='date',y='favorite count',kind='box',data=data_august[['retweet count','favorite count', 'date']])"
   ]
  },
  {
   "cell_type": "code",
   "execution_count": 119,
   "metadata": {},
   "outputs": [
    {
     "data": {
      "text/plain": [
       "<seaborn.axisgrid.FacetGrid at 0x1713df7ddd8>"
      ]
     },
     "execution_count": 119,
     "metadata": {},
     "output_type": "execute_result"
    },
    {
     "data": {
      "image/png": "[encoded data removed]",
      "text/plain": [
       "<Figure size 288x288 with 1 Axes>"
      ]
     },
     "metadata": {},
     "output_type": "display_data"
    }
   ],
   "source": [
    "sns.factorplot(x='date',y='retweet count',kind='box',data=data_august[['retweet count','favorite count', 'date']])"
   ]
  },
  {
   "cell_type": "code",
   "execution_count": 117,
   "metadata": {},
   "outputs": [
    {
     "data": {
      "text/plain": [
       "20    43\n",
       "10    25\n",
       "30    21\n",
       "0     13\n",
       "Name: date, dtype: int64"
      ]
     },
     "execution_count": 117,
     "metadata": {},
     "output_type": "execute_result"
    }
   ],
   "source": [
    "data_august.date.round(-1).value_counts()"
   ]
  },
  {
   "cell_type": "code",
   "execution_count": 124,
   "metadata": {},
   "outputs": [
    {
     "data": {
      "text/html": [
       "<div>\n",
       "<style scoped>\n",
       "    .dataframe tbody tr th:only-of-type {\n",
       "        vertical-align: middle;\n",
       "    }\n",
       "\n",
       "    .dataframe tbody tr th {\n",
       "        vertical-align: top;\n",
       "    }\n",
       "\n",
       "    .dataframe thead th {\n",
       "        text-align: right;\n",
       "    }\n",
       "</style>\n",
       "<table border=\"1\" class=\"dataframe\">\n",
       "  <thead>\n",
       "    <tr style=\"text-align: right;\">\n",
       "      <th></th>\n",
       "      <th>retweet count</th>\n",
       "      <th>favorite count</th>\n",
       "      <th>text</th>\n",
       "      <th>in reply to</th>\n",
       "      <th>lang</th>\n",
       "      <th>date</th>\n",
       "      <th>date int</th>\n",
       "    </tr>\n",
       "  </thead>\n",
       "  <tbody>\n",
       "    <tr>\n",
       "      <th>45</th>\n",
       "      <td>6</td>\n",
       "      <td>11</td>\n",
       "      <td>À tous les amateurs de #ganja, de #dreadlocks ...</td>\n",
       "      <td>None</td>\n",
       "      <td>fr</td>\n",
       "      <td>20</td>\n",
       "      <td>1534748333000000000</td>\n",
       "    </tr>\n",
       "    <tr>\n",
       "      <th>51</th>\n",
       "      <td>5</td>\n",
       "      <td>6</td>\n",
       "      <td>\"Les #robots sont à la fois une chance et un r...</td>\n",
       "      <td>None</td>\n",
       "      <td>fr</td>\n",
       "      <td>18</td>\n",
       "      <td>1534575600000000000</td>\n",
       "    </tr>\n",
       "    <tr>\n",
       "      <th>81</th>\n",
       "      <td>5</td>\n",
       "      <td>6</td>\n",
       "      <td>#Barbacool! Les recettes #BBQ du barbu, à la c...</td>\n",
       "      <td>None</td>\n",
       "      <td>fr</td>\n",
       "      <td>8</td>\n",
       "      <td>1533711600000000000</td>\n",
       "    </tr>\n",
       "  </tbody>\n",
       "</table>\n",
       "</div>"
      ],
      "text/plain": [
       "    retweet count  favorite count  \\\n",
       "45              6              11   \n",
       "51              5               6   \n",
       "81              5               6   \n",
       "\n",
       "                                                 text in reply to lang  date  \\\n",
       "45  À tous les amateurs de #ganja, de #dreadlocks ...        None   fr    20   \n",
       "51  \"Les #robots sont à la fois une chance et un r...        None   fr    18   \n",
       "81  #Barbacool! Les recettes #BBQ du barbu, à la c...        None   fr     8   \n",
       "\n",
       "               date int  \n",
       "45  1534748333000000000  \n",
       "51  1534575600000000000  \n",
       "81  1533711600000000000  "
      ]
     },
     "execution_count": 124,
     "metadata": {},
     "output_type": "execute_result"
    }
   ],
   "source": [
    "data_august[(data_august['retweet count']>4)&(data_august['favorite count']>4)]"
   ]
  },
  {
   "cell_type": "code",
   "execution_count": 126,
   "metadata": {},
   "outputs": [
    {
     "data": {
      "text/plain": [
       "'À tous les amateurs de #ganja, de #dreadlocks et de #Jamaïque: Fantin et @blasub étaient au festival de rap… https://t.co/ip3Mg3wh2C'"
      ]
     },
     "execution_count": 126,
     "metadata": {},
     "output_type": "execute_result"
    }
   ],
   "source": [
    "data_august['text'][45]"
   ]
  },
  {
   "cell_type": "code",
   "execution_count": null,
   "metadata": {},
   "outputs": [],
   "source": []
  }
 ],
 "metadata": {
  "kernelspec": {
   "display_name": "Python 3",
   "language": "python",
   "name": "python3"
  },
  "language_info": {
   "codemirror_mode": {
    "name": "ipython",
    "version": 3
   },
   "file_extension": ".py",
   "mimetype": "text/x-python",
   "name": "python",
   "nbconvert_exporter": "python",
   "pygments_lexer": "ipython3",
   "version": "3.6.5"
  }
 },
 "nbformat": 4,
 "nbformat_minor": 2
}
