{
 "cells": [
  {
   "cell_type": "code",
   "execution_count": 5,
   "metadata": {},
   "outputs": [],
   "source": [
    "import requests\n",
    "from lxml import html\n",
    "import lxml"
   ]
  },
  {
   "cell_type": "code",
   "execution_count": 16,
   "metadata": {},
   "outputs": [],
   "source": [
    "categories = ['life','style','interviews','travel']"
   ]
  },
  {
   "cell_type": "code",
   "execution_count": 7,
   "metadata": {},
   "outputs": [],
   "source": [
    "href = list()\n",
    "titre = list()\n",
    "auteurs = list()\n",
    "nextpages = list()\n",
    "categories_tab = list()\n",
    "nextpage = ''\n",
    "\n",
    "def extraction(category):\n",
    "    global nextpage\n",
    "    global href\n",
    "    global titre\n",
    "    global auteurs\n",
    "    global nextpages\n",
    "    global categories_tab\n",
    "    print(category)\n",
    "    if nextpage:\n",
    "        r = requests.get(nextpage[0].xpath('.//@href')[0])\n",
    "    else:\n",
    "        r = requests.get('http://lachouquette.ch/category/'+category)\n",
    "    tree = html.fromstring(r.content)\n",
    "    \n",
    "    # nouveau\n",
    "    articles = tree.xpath('//article')\n",
    "    for article in articles:\n",
    "        lien = article.xpath('.//h3//a')[0]\n",
    "        href.append(lien.xpath('.//@href')[0])\n",
    "        titre.append(lien.xpath('.//text()')[0])\n",
    "        categories_tab.append(category)\n",
    "        auteur = article.xpath('.//span[@class=\"entry-meta\"]//a//text()')\n",
    "        if len(auteur):\n",
    "            auteurs.append(auteur[0])\n",
    "        else:\n",
    "            auteurs.append('')\n",
    "        if nextpage:\n",
    "            nextpages.append(nextpage[0].xpath('.//@href')[0])\n",
    "        else:\n",
    "            nextpages.append('http://lachouquette.ch/category/'+category)\n",
    "    nextpage =  tree.xpath('//section[@id=\"main\"]//a[@class=\"next page-numbers\"]')\n",
    "    \n",
    "def analyser(categories):\n",
    "    global href\n",
    "    global titre\n",
    "    global auteurs\n",
    "    global nextpage\n",
    "    global nextpages\n",
    "    global categories_tab\n",
    "    \n",
    "    href = list()\n",
    "    titre = list()\n",
    "    auteurs = list()\n",
    "    nextpages = list()\n",
    "    nextpage = ''\n",
    "    \n",
    "    for category in categories:\n",
    "        extraction(category)\n",
    "        while len(nextpage):\n",
    "            extraction(category)"
   ]
  },
  {
   "cell_type": "code",
   "execution_count": 8,
   "metadata": {},
   "outputs": [
    {
     "name": "stdout",
     "output_type": "stream",
     "text": [
      "travel\n",
      "travel\n"
     ]
    }
   ],
   "source": [
    "analyser(['travel'])"
   ]
  },
  {
   "cell_type": "code",
   "execution_count": 17,
   "metadata": {},
   "outputs": [
    {
     "name": "stdout",
     "output_type": "stream",
     "text": [
      "life\n",
      "life\n",
      "life\n",
      "life\n",
      "life\n",
      "life\n",
      "life\n",
      "life\n",
      "life\n",
      "life\n",
      "life\n",
      "life\n",
      "style\n",
      "style\n",
      "style\n",
      "style\n",
      "style\n",
      "interviews\n",
      "interviews\n",
      "interviews\n",
      "travel\n",
      "travel\n"
     ]
    }
   ],
   "source": [
    "analyser(categories)"
   ]
  },
  {
   "cell_type": "markdown",
   "metadata": {},
   "source": [
    "# Pandas part"
   ]
  },
  {
   "cell_type": "code",
   "execution_count": 32,
   "metadata": {},
   "outputs": [],
   "source": [
    "import pandas as pd\n",
    "import matplotlib"
   ]
  },
  {
   "cell_type": "code",
   "execution_count": 18,
   "metadata": {},
   "outputs": [],
   "source": [
    "df = pd.DataFrame([auteurs,href,titre,nextpages,categories_tab]).transpose()"
   ]
  },
  {
   "cell_type": "code",
   "execution_count": 19,
   "metadata": {},
   "outputs": [],
   "source": [
    "df.columns = ['Auteur','Lien','Titre','Category page','Categorie']"
   ]
  },
  {
   "cell_type": "code",
   "execution_count": 20,
   "metadata": {},
   "outputs": [
    {
     "data": {
      "text/plain": [
       "Cyrielle    130\n",
       "Céline       62\n",
       "Lucie        49\n",
       "Justine      44\n",
       "Béryl        18\n",
       "             12\n",
       "Aude         10\n",
       "Laure         9\n",
       "Caroline      8\n",
       "Agnès         2\n",
       "Thérèse       1\n",
       "Name: Auteur, dtype: int64"
      ]
     },
     "execution_count": 20,
     "metadata": {},
     "output_type": "execute_result"
    }
   ],
   "source": [
    "df['Auteur'].value_counts()"
   ]
  },
  {
   "cell_type": "code",
   "execution_count": 34,
   "metadata": {},
   "outputs": [
    {
     "data": {
      "text/plain": [
       "<matplotlib.axes._subplots.AxesSubplot at 0x22c55981c18>"
      ]
     },
     "execution_count": 34,
     "metadata": {},
     "output_type": "execute_result"
    },
    {
     "data": {
      "image/png": "[encoded data removed]",
      "text/plain": [
       "<Figure size 432x288 with 1 Axes>"
      ]
     },
     "metadata": {},
     "output_type": "display_data"
    }
   ],
   "source": [
    "pd.DataFrame(df[['Categorie','Auteur']].groupby(['Auteur','Categorie']).size()).plot.hist()"
   ]
  },
  {
   "cell_type": "markdown",
   "metadata": {},
   "source": [
    "# Améliorations\n",
    "- ajout colonne de catégorie\n",
    "- ajout de la date de publication\n",
    "- ajout du nombre de commentaires\n",
    "- ajout du nombre de partages\n",
    "- analyseur de prix\n",
    "- analyseur d'adresses\n",
    "- enlever partie variables globales et jouer avec un return"
   ]
  },
  {
   "cell_type": "code",
   "execution_count": null,
   "metadata": {},
   "outputs": [],
   "source": []
  },
  {
   "cell_type": "code",
   "execution_count": null,
   "metadata": {},
   "outputs": [],
   "source": []
  }
 ],
 "metadata": {
  "kernelspec": {
   "display_name": "Python 3",
   "language": "python",
   "name": "python3"
  },
  "language_info": {
   "codemirror_mode": {
    "name": "ipython",
    "version": 3
   },
   "file_extension": ".py",
   "mimetype": "text/x-python",
   "name": "python",
   "nbconvert_exporter": "python",
   "pygments_lexer": "ipython3",
   "version": "3.6.5"
  }
 },
 "nbformat": 4,
 "nbformat_minor": 2
}
