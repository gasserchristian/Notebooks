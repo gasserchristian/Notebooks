{
 "cells": [
  {
   "cell_type": "markdown",
   "metadata": {},
   "source": [
    "# Analyse Données Géographiques"
   ]
  },
  {
   "cell_type": "markdown",
   "metadata": {},
   "source": [
    "- chargement des données\n",
    "    - requête OSM\n",
    "    - aire wikidata\n",
    "    - noeuds, chemins, relations\n",
    "- DataFrame dès le début ?\n",
    "    - conversion JSON à un tableau dataframe\n",
    "- Données intéressantes :\n",
    "    - nombre d'éléments\n",
    "    - nombre de tags total\n",
    "    - nombre de tags par élément + classement\n",
    "    - (tag overlap...)\n",
    "- données analyse à part\n",
    "    - restaurants\n",
    "    - magasins\n",
    "    - montagnes : et encore parce que peut-être colinne intéressante ?\n",
    "    - arbre qui n'ont que un tag ?"
   ]
  },
  {
   "cell_type": "markdown",
   "metadata": {},
   "source": [
    "# Contenu d'un élément\n",
    "Un élément a un __identifiant overpass__, une __latitude__ et __longitude__, un __type__ (_noeud, chemin, relations_), un __tag__ et une __valeur__."
   ]
  },
  {
   "cell_type": "markdown",
   "metadata": {},
   "source": [
    "__Questions clés :__ quels sont mes concepts abstraits, comment les construire de manière la plus globale possible, quelles sont les fonctionnalités et les héritages ?"
   ]
  },
  {
   "cell_type": "markdown",
   "metadata": {},
   "source": [
    "éléments intéressants : affichage sur une carte, affichage des numéros, détection d'accumulation de noeuds par coordonnées géographiques... (typiquement d'un même tag)"
   ]
  },
  {
   "cell_type": "markdown",
   "metadata": {},
   "source": [
    "__Analyse :__\n",
    "Si on crée un paysage. Cela vaudrait-il la peine d'avoir un seul maître qui pourrait intéragir avec d'autres objets pour envoyer des messages par exemple ou est-ce qu'il faut un peu séparer les tâches ?\n",
    "\n",
    "Les étapes principales sont le chargement avec overpass (OL et REQUEST). Puis les étapes d'analyse de fréquence et divers filtrages. Et encore découverte. Aussi, si on a un résultat on voudrait pouvoir le grapher sur dune carte.\n",
    "\n",
    "Option : plusieurs REQUESTS et ajouter une colonne par exemple..."
   ]
  },
  {
   "cell_type": "markdown",
   "metadata": {},
   "source": [
    "__Note :__ les données numériques seront les coordonnées (détection d'accumulation) et les différentes élévations (statistique)\n",
    "\n",
    "Il faudra toujours avoir le contrôle sur combient d'éléments sont disponibles et combien il en reste si on applique un filtre."
   ]
  },
  {
   "cell_type": "markdown",
   "metadata": {},
   "source": [
    "# Réflextion future\n",
    "Est-ce que je peux faire un pont sur les requête sur wikidata ? : idée jouer avec héritage ?"
   ]
  },
  {
   "cell_type": "code",
   "execution_count": 51,
   "metadata": {},
   "outputs": [],
   "source": [
    "import requests\n",
    "import pandas as pd\n",
    "import numpy as np\n",
    "import matplotlib.pyplot as plt\n",
    "\n",
    "class Loader:\n",
    "    '''JSONel : en JSON les éléments'''\n",
    "    def __init__(self,area='Q78'):\n",
    "        # option : rajouter des aires prédéfinies avec des clés\n",
    "        # option 2 : étendre requêtes aux chemins et relations\n",
    "        r_url = '%5Bout%3Ajson%5D%3B%0D%0Aarea%5Bwikidata%3D'+area+'%5D%3B%0D%0Anode%28area%29%5B%7E%27%5Ba-z0-9%5D%27%7E%27%5Ba-z0-9%5D%27%5D%3B%0D%0Aout%3B'\n",
    "        r = requests.get('https://www.overpass-api.de/api/interpreter?data='+r_url)\n",
    "        jsonobject = r.json()\n",
    "        Loader.JSONel = jsonobject['elements']\n",
    "    def get_json(self):\n",
    "        return self.JSONel\n",
    "    def get_DataFrame(self):\n",
    "        table = list()\n",
    "        for element in self.JSONel: # elements isolé\n",
    "            for tag, value in element['tags'].items():\n",
    "                table.append([element['id'],element['lat'],element['lon'],element['type'],tag,value])\n",
    "        return pd.DataFrame(table,columns=['id','lat','lon','type','tag','value'])\n",
    "\n",
    "def filterOV(df,drop=True,column1='tag',value1='',column2='',value2=''):\n",
    "    # option 1 : enlever tous éléments liés à une colonne qui a une valeur\n",
    "    if(drop):\n",
    "        if(value2==''):\n",
    "            identifiers = df[df[column1]==value1]['id']\n",
    "        else:\n",
    "            b_val1 = np.array(df[column1]==value1)\n",
    "            b_val2 = np.array(df[column2]==value2)\n",
    "            # liste des identifiants interdits\n",
    "            mask = pd.Series(b_val1&b_val2)\n",
    "            mask.index = df.index\n",
    "            identifiers = df[mask]['id'].unique()\n",
    "        id_tot = df['id']\n",
    "        id_diff = pd.Series(np.setdiff1d(np.array(id_tot),np.array(identifiers)))\n",
    "        return df[df['id'].isin(id_diff)]\n",
    "    # option 2 : ne laisser que les éléments liés au couple colonne et valeur\n",
    "    else:\n",
    "        if(value2==''):\n",
    "            identifiers = df[df[column1]==value1]['id']\n",
    "        else:\n",
    "            b_val1 = np.array(df[column1]==value1)\n",
    "            b_val2 = np.array(df[column2]==value2)\n",
    "            mask = pd.Series(b_val1&b_val2)\n",
    "            identifiers = df[mask]['id'].unique()\n",
    "        return df[df['id'].isin(identifiers)]\n",
    "            \n",
    "# option : si on crée une forme spécifique à OL on peut instancier héritier ?\n",
    "class Master:\n",
    "    # initialisation\n",
    "    def __init__(self,area='Q78'): # Q78 == Basel\n",
    "        Master.io = list()\n",
    "        Master.df = Loader().get_DataFrame()\n",
    "        Master.dfc = Master.df.copy()\n",
    "        self.get_statsDF()\n",
    "        Master.originaldf = Master.df.copy()\n",
    "        \n",
    "    #tags\n",
    "    # sauver un tag intéressant\n",
    "    def save_tag(self,tag):\n",
    "        if tag in self.io:\n",
    "            print('note : déjà enregistré')\n",
    "        else:\n",
    "            # option : vérifier type de tag\n",
    "            if(type(tag)=='str'):\n",
    "                self.io.append(tag)\n",
    "            elif(type(tag)=='list'):\n",
    "                for item in tag:\n",
    "                    if item not in self.io:\n",
    "                        self.io.append(item)\n",
    "    # obtenir les tags intéressants\n",
    "    def get_tags(self):\n",
    "        return self.io\n",
    "    \n",
    "    # reset DataFrame\n",
    "    def reset(self):\n",
    "        self.df = self.originaldf.copy()\n",
    "    \n",
    "    # statistiques\n",
    "    # statistiques par rapport au dernier updtate : longueur du set, nb de noeuds, nb de tags\n",
    "    def get_statsDF(self):\n",
    "        print(\"Len df : {}. Difference : {}\".format(len(self.dfc),len(self.df)-len(self.dfc)))\n",
    "        print(\"Nb items : {}. Difference : {}\".format(len(self.dfc['id'].unique()),len(self.df['id'].unique())-len(self.dfc['id'].unique())))\n",
    "        print(\"Nb tags : {}. Difference : {}\".format(len(self.dfc['tag'].unique()),len(self.df['tag'].unique())-len(self.dfc['tag'].unique())))\n",
    "        self.df = self.dfc.copy()\n",
    "    # statistiques des valeurs associés\n",
    "    def get_counts_ass(self, column='tag', value='amenity', columnToAnalyse='value'):\n",
    "        return self.dfc[self.dfc[column]==value][columnToAnalyse].value_counts()\n",
    "    # statistique d'une colonne\n",
    "    def get_counts_column(self, column='tag'):\n",
    "        return self.dfc[column].value_counts()\n",
    "    \n",
    "    #filtre par rapport à une colonne ou deux\n",
    "    def filterdf(self,drop=True,column1='tag',value1='',column2='value',value2='',replace=True):\n",
    "        result = filterOV(self.dfc,drop=drop,column1=column1,value1=value1,column2=column2,value2=value2)\n",
    "        if(replace):\n",
    "            self.dfc = result\n",
    "        if(replace==False):\n",
    "            return result\n",
    "        else:\n",
    "            self.get_statsDF()\n",
    "            return ''\n",
    "    #filtre sans remplacement par rapport id\n",
    "    def filterId(self, id):\n",
    "        return self.dfc[self.dfc['id']==id]\n",
    "    \n",
    "        \n",
    "        "
   ]
  },
  {
   "cell_type": "code",
   "execution_count": 2,
   "metadata": {
    "scrolled": true
   },
   "outputs": [
    {
     "name": "stdout",
     "output_type": "stream",
     "text": [
      "Len df : 124079. Difference : 0\n",
      "Nb items : 30565. Difference : 0\n",
      "Nb tags : 432. Difference : 0\n",
      "Len df : 122490. Difference : 1589\n",
      "Nb items : 30292. Difference : 273\n",
      "Nb tags : 429. Difference : 3\n"
     ]
    },
    {
     "data": {
      "text/plain": [
       "''"
      ]
     },
     "execution_count": 2,
     "metadata": {},
     "output_type": "execute_result"
    }
   ],
   "source": [
    "# instancier\n",
    "m1 = Master()\n",
    "\n",
    "# filtrer les restaurants\n",
    "m1.filterdf(value1='amenity',column2='value',value2='restaurant')"
   ]
  },
  {
   "cell_type": "code",
   "execution_count": 3,
   "metadata": {
    "scrolled": true
   },
   "outputs": [],
   "source": [
    "# m1.get_counts_ass(column='tag',value='amenity',columnToAnalyse='value')\n",
    "# m1.filterdf(value1='bench',column1='value',replace=False)\n",
    "# m1.filterId(5820379660)\n",
    "# m1.get_counts_column(column='tag')"
   ]
  },
  {
   "cell_type": "code",
   "execution_count": 4,
   "metadata": {},
   "outputs": [
    {
     "name": "stdout",
     "output_type": "stream",
     "text": [
      "Len df : 121671. Difference : 819\n",
      "Nb items : 29935. Difference : 357\n",
      "Nb tags : 426. Difference : 3\n"
     ]
    },
    {
     "data": {
      "text/plain": [
       "''"
      ]
     },
     "execution_count": 4,
     "metadata": {},
     "output_type": "execute_result"
    }
   ],
   "source": [
    "#m1.get_counts_ass(column='tag',value='shop',columnToAnalyse='value')[m1.get_counts_ass(column='tag',value='shop',columnToAnalyse='value')>8]\n",
    "#m1.filterdf(value1='leaf_type',column1='tag',replace=False, drop=False)['tag'].value_counts()\n",
    "\n",
    "m1.filterdf(value1='leaf_type',column1='tag',replace=True, drop=True)"
   ]
  },
  {
   "cell_type": "code",
   "execution_count": 5,
   "metadata": {},
   "outputs": [],
   "source": [
    "m1.save_tag('second_hand (value, not a tag)')\n",
    "m1.save_tag('shop=books')\n",
    "m1.save_tag('amenity=pharmacy')\n",
    "m1.save_tag('amenity=waste_basket')\n",
    "m1.save_tag('amenity=toilets')\n",
    "m1.save_tag('amenity=ferry_terminal')\n",
    "m1.save_tag('amenity=fuel')\n",
    "m1.save_tag('amenity=library')\n",
    "m1.save_tag('amenity=fountain')\n"
   ]
  },
  {
   "cell_type": "code",
   "execution_count": 11,
   "metadata": {},
   "outputs": [
    {
     "name": "stdout",
     "output_type": "stream",
     "text": [
      "Len df : 119586. Difference : 0\n",
      "Nb items : 29392. Difference : 0\n",
      "Nb tags : 404. Difference : 0\n",
      "Len df : 119586. Difference : 0\n",
      "Nb items : 29392. Difference : 0\n",
      "Nb tags : 404. Difference : 0\n",
      "Len df : 119586. Difference : 0\n",
      "Nb items : 29392. Difference : 0\n",
      "Nb tags : 404. Difference : 0\n",
      "Len df : 119586. Difference : 0\n",
      "Nb items : 29392. Difference : 0\n",
      "Nb tags : 404. Difference : 0\n",
      "Len df : 119586. Difference : 0\n",
      "Nb items : 29392. Difference : 0\n",
      "Nb tags : 404. Difference : 0\n",
      "Len df : 119586. Difference : 0\n",
      "Nb items : 29392. Difference : 0\n",
      "Nb tags : 404. Difference : 0\n",
      "Len df : 119586. Difference : 0\n",
      "Nb items : 29392. Difference : 0\n",
      "Nb tags : 404. Difference : 0\n",
      "Len df : 119586. Difference : 0\n",
      "Nb items : 29392. Difference : 0\n",
      "Nb tags : 404. Difference : 0\n",
      "Len df : 119586. Difference : 0\n",
      "Nb items : 29392. Difference : 0\n",
      "Nb tags : 404. Difference : 0\n",
      "Len df : 119586. Difference : 0\n",
      "Nb items : 29392. Difference : 0\n",
      "Nb tags : 404. Difference : 0\n",
      "Len df : 119586. Difference : 0\n",
      "Nb items : 29392. Difference : 0\n",
      "Nb tags : 404. Difference : 0\n",
      "Len df : 119586. Difference : 0\n",
      "Nb items : 29392. Difference : 0\n",
      "Nb tags : 404. Difference : 0\n",
      "Len df : 119586. Difference : 0\n",
      "Nb items : 29392. Difference : 0\n",
      "Nb tags : 404. Difference : 0\n",
      "Len df : 119586. Difference : 0\n",
      "Nb items : 29392. Difference : 0\n",
      "Nb tags : 404. Difference : 0\n",
      "Len df : 119586. Difference : 0\n",
      "Nb items : 29392. Difference : 0\n",
      "Nb tags : 404. Difference : 0\n",
      "Len df : 119586. Difference : 0\n",
      "Nb items : 29392. Difference : 0\n",
      "Nb tags : 404. Difference : 0\n",
      "Len df : 119586. Difference : 0\n",
      "Nb items : 29392. Difference : 0\n",
      "Nb tags : 404. Difference : 0\n",
      "Len df : 119586. Difference : 0\n",
      "Nb items : 29392. Difference : 0\n",
      "Nb tags : 404. Difference : 0\n"
     ]
    },
    {
     "data": {
      "text/plain": [
       "''"
      ]
     },
     "execution_count": 11,
     "metadata": {},
     "output_type": "execute_result"
    }
   ],
   "source": [
    "m1.filterdf(value1='amenity',column1='tag',value2='vending_machine',column2='value',replace=True, drop=True)\n",
    "m1.filterdf(value1='amenity',column1='tag',value2='post_box',column2='value',replace=True, drop=True)\n",
    "m1.filterdf(value1='amenity',column1='tag',value2='waste_basket',column2='value',replace=True, drop=True)\n",
    "m1.filterdf(value1='amenity',column1='tag',value2='parkingpharmacy',column2='value',replace=True, drop=True)\n",
    "m1.filterdf(value1='amenity',column1='tag',value2='pharmacy',column2='value',replace=True, drop=True)\n",
    "m1.filterdf(value1='amenity',column1='tag',value2='fast_food',column2='value',replace=True, drop=True)\n",
    "m1.filterdf(value1='amenity',column1='tag',value2='bank',column2='value',replace=True, drop=True)\n",
    "m1.filterdf(value1='amenity',column1='tag',value2='car_sharing',column2='value',replace=True, drop=True)\n",
    "m1.filterdf(value1='amenity',column1='tag',value2='fuel',column2='value',replace=True, drop=True)\n",
    "m1.filterdf(value1='amenity',column1='tag',value2='ferry_terminal',column2='value',replace=True, drop=True)\n",
    "m1.filterdf(value1='amenity',column1='tag',value2='car_sharing',column2='value',replace=True, drop=True)\n",
    "m1.filterdf(value1='amenity',column1='tag',value2='school',column2='value',replace=True, drop=True)\n",
    "m1.filterdf(value1='amenity',column1='tag',value2='car_sharing',column2='value',replace=True, drop=True)\n",
    "m1.filterdf(value1='amenity',column1='tag',value2='nightclub',column2='value',replace=True, drop=True)\n",
    "m1.filterdf(value1='amenity',column1='tag',value2='car_sharing',column2='value',replace=True, drop=True)\n",
    "m1.filterdf(value1='amenity',column1='tag',value2='doctors',column2='value',replace=True, drop=True)\n",
    "m1.filterdf(value1='amenity',column1='tag',value2='hospital',column2='value',replace=True, drop=True)\n",
    "m1.filterdf(value1='amenity',column1='tag',value2='parking_entrance',column2='value',replace=True, drop=True)"
   ]
  },
  {
   "cell_type": "code",
   "execution_count": 14,
   "metadata": {},
   "outputs": [
    {
     "name": "stdout",
     "output_type": "stream",
     "text": [
      "Len df : 119361. Difference : 0\n",
      "Nb items : 29335. Difference : 0\n",
      "Nb tags : 401. Difference : 0\n",
      "Len df : 119361. Difference : 0\n",
      "Nb items : 29335. Difference : 0\n",
      "Nb tags : 401. Difference : 0\n",
      "\n"
     ]
    }
   ],
   "source": [
    "m1.get_counts_ass(column='tag',value='amenity',columnToAnalyse='value')\n",
    "m1.filterdf(value1='amenity',column1='tag',value2='parking',column2='value',replace=True, drop=True)\n",
    "m1.filterdf(value1='amenity',column1='tag',value2='post_office',column2='value',replace=True, drop=True)\n",
    "print()"
   ]
  },
  {
   "cell_type": "code",
   "execution_count": 35,
   "metadata": {},
   "outputs": [
    {
     "name": "stdout",
     "output_type": "stream",
     "text": [
      "Len df : 119361. Difference : 0\n",
      "Nb items : 29335. Difference : 0\n",
      "Nb tags : 401. Difference : 0\n",
      "Len df : 119361. Difference : 0\n",
      "Nb items : 29335. Difference : 0\n",
      "Nb tags : 401. Difference : 0\n"
     ]
    },
    {
     "data": {
      "text/plain": [
       "archaeological_site    13\n",
       "monument                3\n",
       "memorial                3\n",
       "monastery               1\n",
       "boundary_stone          1\n",
       "Name: value, dtype: int64"
      ]
     },
     "execution_count": 35,
     "metadata": {},
     "output_type": "execute_result"
    }
   ],
   "source": [
    "m1.save_tag('archaeological_site, monument, memorial, monastery')\n",
    "m1.filterdf(value1='historic',column1='tag',column2='value',replace=False, drop=False)[m1.filterdf(value1='historic',column1='tag',column2='value',replace=False, drop=False)['tag']=='historic']['value'].value_counts()"
   ]
  },
  {
   "cell_type": "markdown",
   "metadata": {},
   "source": [
    "# Idée d'analyse\n",
    "- analyser séparément - par exemple par couleur\n",
    "    - restaurants (peut-être truc cool)\n",
    "    - magasin (spéciaux, second-hand)\n",
    "    - lieux sympas\n",
    "        - fontaines\n",
    "        - sculptures\n",
    "        - historique\n",
    "        - bibliothèques\n",
    "        - musée\n",
    "        - bâtiments religieux\n",
    "- éléments naturels\n",
    "    - montagnes = nom, hauteur"
   ]
  },
  {
   "cell_type": "code",
   "execution_count": 34,
   "metadata": {},
   "outputs": [],
   "source": [
    "#m1.get_counts_ass(column='tag',value='tourism',columnToAnalyse='value')"
   ]
  },
  {
   "cell_type": "code",
   "execution_count": 37,
   "metadata": {},
   "outputs": [
    {
     "data": {
      "text/plain": [
       "tourism    18\n",
       "Name: tag, dtype: int64"
      ]
     },
     "execution_count": 37,
     "metadata": {},
     "output_type": "execute_result"
    }
   ],
   "source": [
    "m1.save_tag('tourism=museum')\n",
    "m1.get_counts_ass(column='value',value='museum',columnToAnalyse='tag')"
   ]
  },
  {
   "cell_type": "code",
   "execution_count": 40,
   "metadata": {},
   "outputs": [
    {
     "data": {
      "text/plain": [
       "playground         44\n",
       "fitness_station    17\n",
       "pitch               8\n",
       "picnic_table        7\n",
       "sports_centre       6\n",
       "fitness_centre      4\n",
       "marina              2\n",
       "firepit             1\n",
       "slipway             1\n",
       "park                1\n",
       "swimming_pool       1\n",
       "hackerspace         1\n",
       "dance               1\n",
       "Name: value, dtype: int64"
      ]
     },
     "execution_count": 40,
     "metadata": {},
     "output_type": "execute_result"
    }
   ],
   "source": [
    "m1.get_counts_ass(column='tag',value='leisure',columnToAnalyse='value')"
   ]
  },
  {
   "cell_type": "code",
   "execution_count": 41,
   "metadata": {},
   "outputs": [],
   "source": [
    "m1.save_tag('leisure')"
   ]
  },
  {
   "cell_type": "markdown",
   "metadata": {},
   "source": [
    "# Conclusion\n",
    "Trouver une façon + propre de présenter les données. Par exemple avec um prompter et une marche à suivre.\n",
    "Continuer :\n",
    "- intégrer l'analyse avec les chemins et les relations\n",
    "- intégrer l'analyse avec wikidata"
   ]
  },
  {
   "cell_type": "code",
   "execution_count": 46,
   "metadata": {},
   "outputs": [
    {
     "data": {
      "text/plain": [
       "religion    14\n",
       "Name: tag, dtype: int64"
      ]
     },
     "execution_count": 46,
     "metadata": {},
     "output_type": "execute_result"
    }
   ],
   "source": [
    "m1.get_counts_ass(column='tag',value='religion',columnToAnalyse='tag')"
   ]
  },
  {
   "cell_type": "code",
   "execution_count": 50,
   "metadata": {},
   "outputs": [
    {
     "name": "stdout",
     "output_type": "stream",
     "text": [
      "Len df : 119361. Difference : 0\n",
      "Nb items : 29335. Difference : 0\n",
      "Nb tags : 401. Difference : 0\n"
     ]
    },
    {
     "data": {
      "text/plain": [
       "place_of_worship                                                                                                                                                                                                                                  14\n",
       "christian                                                                                                                                                                                                                                         12\n",
       "Basel                                                                                                                                                                                                                                              5\n",
       "roman_catholic                                                                                                                                                                                                                                     2\n",
       "Evangelisch-Lutherische Gemeinde Basel                                                                                                                                                                                                             2\n",
       "4056                                                                                                                                                                                                                                               2\n",
       "chapel                                                                                                                                                                                                                                             2\n",
       "no                                                                                                                                                                                                                                                 2\n",
       "muslim                                                                                                                                                                                                                                             2\n",
       "Johanneskirche                                                                                                                                                                                                                                     1\n",
       "http://www.luther-basel.ch/index.php/gemeinde?id=125                                                                                                                                                                                               1\n",
       "St. Joseph                                                                                                                                                                                                                                         1\n",
       "Offline, Oekumenisches Zentrum für Meditation und Seelsorge                                                                                                                                                                                        1\n",
       "http://www.offline-basel.ch                                                                                                                                                                                                                        1\n",
       "Theodorskirchplatz                                                                                                                                                                                                                                 1\n",
       "353                                                                                                                                                                                                                                                1\n",
       "57                                                                                                                                                                                                                                                 1\n",
       "4057                                                                                                                                                                                                                                               1\n",
       "main_entrance                                                                                                                                                                                                                                      1\n",
       "Zwinglihaus                                                                                                                                                                                                                                        1\n",
       "Su 10:00-11:00                                                                                                                                                                                                                                     1\n",
       "1                                                                                                                                                                                                                                                  1\n",
       "evangelical                                                                                                                                                                                                                                        1\n",
       "75                                                                                                                                                                                                                                                 1\n",
       "private                                                                                                                                                                                                                                            1\n",
       "Klybeckstrasse                                                                                                                                                                                                                                     1\n",
       "St. Anton                                                                                                                                                                                                                                          1\n",
       "Friedensgasse                                                                                                                                                                                                                                      1\n",
       "attraction                                                                                                                                                                                                                                         1\n",
       "http://www.luther-basel.ch                                                                                                                                                                                                                         1\n",
       "monument                                                                                                                                                                                                                                           1\n",
       "Moschee Basel                                                                                                                                                                                                                                      1\n",
       "35                                                                                                                                                                                                                                                 1\n",
       "http://www.icf-basel.ch                                                                                                                                                                                                                            1\n",
       "als:Käppelijoch                                                                                                                                                                                                                                    1\n",
       "4052                                                                                                                                                                                                                                               1\n",
       "ICF Basel                                                                                                                                                                                                                                          1\n",
       "Im tiefen Boden                                                                                                                                                                                                                                    1\n",
       "salvation_army                                                                                                                                                                                                                                     1\n",
       "http://www.inforel.ch/i1109.html                                                                                                                                                                                                                   1\n",
       "Gemeinschaft Evangelisch Taufgesinnter                                                                                                                                                                                                             1\n",
       "Fetih Moschee                                                                                                                                                                                                                                      1\n",
       "4058                                                                                                                                                                                                                                               1\n",
       "Lehenmattstrasse                                                                                                                                                                                                                                   1\n",
       "Kannenfeldstrasse                                                                                                                                                                                                                                  1\n",
       "lutheran                                                                                                                                                                                                                                           1\n",
       "A little chapel in the centre of the Mittlere Brücke. Originally used as a toll station it also served as a weighdown for the bridge's pillar. Later it served as a public penitentiary, where people where tied up and thrown into the Rhine.     1\n",
       "reformed                                                                                                                                                                                                                                           1\n",
       "7                                                                                                                                                                                                                                                  1\n",
       "4059                                                                                                                                                                                                                                               1\n",
       "Heilsarmee                                                                                                                                                                                                                                         1\n",
       "Evangelisch-methodistische Kirche Kleinbasel                                                                                                                                                                                                       1\n",
       "http://www.emk-kleinbasel.ch/                                                                                                                                                                                                                      1\n",
       "Käppelijoch                                                                                                                                                                                                                                        1\n",
       "Evangelisch-Reformierte Kirche                                                                                                                                                                                                                     1\n",
       "evangelical_lutheran                                                                                                                                                                                                                               1\n",
       "Antoniuskirche                                                                                                                                                                                                                                     1\n",
       "Name: value, dtype: int64"
      ]
     },
     "execution_count": 50,
     "metadata": {},
     "output_type": "execute_result"
    }
   ],
   "source": [
    "m1.filterdf(value1='religion',column1='tag',replace=False, drop=False)['value'].value_counts()"
   ]
  },
  {
   "cell_type": "code",
   "execution_count": 55,
   "metadata": {},
   "outputs": [
    {
     "name": "stdout",
     "output_type": "stream",
     "text": [
      "Len df : 119361. Difference : 0\n",
      "Nb items : 29335. Difference : 0\n",
      "Nb tags : 401. Difference : 0\n"
     ]
    },
    {
     "data": {
      "text/plain": [
       "artwork_type    8\n",
       "name            8\n",
       "artist_name     8\n",
       "tourism         8\n",
       "start_date      7\n",
       "material        7\n",
       "name:en         1\n",
       "Name: tag, dtype: int64"
      ]
     },
     "execution_count": 55,
     "metadata": {},
     "output_type": "execute_result"
    }
   ],
   "source": [
    "m1.filterdf(value1='artist_name',column1='tag',replace=False, drop=False)['tag'].value_counts()"
   ]
  },
  {
   "cell_type": "code",
   "execution_count": 54,
   "metadata": {},
   "outputs": [],
   "source": [
    "m1.save_tag('artist_name')\n",
    "m1.save_tag('artwork_type')"
   ]
  },
  {
   "cell_type": "code",
   "execution_count": 59,
   "metadata": {},
   "outputs": [
    {
     "name": "stdout",
     "output_type": "stream",
     "text": [
      "Len df : 119361. Difference : 0\n",
      "Nb items : 29335. Difference : 0\n",
      "Nb tags : 401. Difference : 0\n"
     ]
    },
    {
     "data": {
      "text/plain": [
       "name                    18\n",
       "tourism                 18\n",
       "wheelchair              14\n",
       "addr:postcode           13\n",
       "website                 13\n",
       "addr:city               13\n",
       "addr:street             13\n",
       "addr:housenumber        13\n",
       "addr:country             9\n",
       "wikipedia                3\n",
       "wikidata                 3\n",
       "opening_hours            2\n",
       "payment:cash             1\n",
       "name:de                  1\n",
       "internet_access          1\n",
       "operator                 1\n",
       "payment:debit_cards      1\n",
       "payment:credit_cards     1\n",
       "building                 1\n",
       "contact:website          1\n",
       "internet_access:fee      1\n",
       "email                    1\n",
       "phone                    1\n",
       "start_date               1\n",
       "Name: tag, dtype: int64"
      ]
     },
     "execution_count": 59,
     "metadata": {},
     "output_type": "execute_result"
    }
   ],
   "source": [
    "m1.filterdf(value1='museum',column1='value',replace=False, drop=False)['tag'].value_counts()"
   ]
  },
  {
   "cell_type": "code",
   "execution_count": null,
   "metadata": {},
   "outputs": [],
   "source": []
  }
 ],
 "metadata": {
  "kernelspec": {
   "display_name": "Python 3",
   "language": "python",
   "name": "python3"
  },
  "language_info": {
   "codemirror_mode": {
    "name": "ipython",
    "version": 3
   },
   "file_extension": ".py",
   "mimetype": "text/x-python",
   "name": "python",
   "nbconvert_exporter": "python",
   "pygments_lexer": "ipython3",
   "version": "3.6.5"
  }
 },
 "nbformat": 4,
 "nbformat_minor": 2
}
