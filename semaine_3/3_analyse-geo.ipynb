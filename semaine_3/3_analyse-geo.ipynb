{
 "cells": [
  {
   "cell_type": "markdown",
   "metadata": {},
   "source": [
    "# Continuation\n",
    "- support way et relation\n",
    "    - explorer les tags principaux liés à c'est deux nouveaux types\n",
    "- graphe sur une carte\n",
    "- objet d'enregistrement des données sur un excel\n",
    "- intégration de wikidata\n",
    "- réfléchir à mise à jour BDD overpass\n",
    "- réfléchir à outils géographiques (calculs avec coordonnées)"
   ]
  },
  {
   "cell_type": "markdown",
   "metadata": {},
   "source": [
    "# Idéee\n",
    "- comparer json d'une relation ou d'un node"
   ]
  },
  {
   "cell_type": "code",
   "execution_count": 1,
   "metadata": {},
   "outputs": [],
   "source": [
    "import requests"
   ]
  },
  {
   "cell_type": "code",
   "execution_count": 2,
   "metadata": {},
   "outputs": [],
   "source": [
    "#r1 = requests.get('https://www.overpass-api.de/api/interpreter?data=%5Bout%3Ajson%5D%3B%0D%0Aarea%5Bwikidata%3DQ78%5D%3B%0D%0Anode%28area%29%5B%7E%27%5Ba-z0-9%5D%27%7E%27%5Ba-z0-9%5D%27%5D%3B%0D%0Aout%3B')\n",
    "#r1 = r1.json()"
   ]
  },
  {
   "cell_type": "code",
   "execution_count": 3,
   "metadata": {},
   "outputs": [],
   "source": [
    "r2 = requests.get('https://www.overpass-api.de/api/interpreter?data=%5Bout%3Ajson%5D%3B%0D%0Aarea%5Bwikidata%3DQ78%5D%3B%0D%0Away%28area%29%5B%7E%27%5Ba-z0-9%5D%27%7E%27%5Ba-z0-9%5D%27%5D%3B%0D%0Aout+geom%3B')\n",
    "r2 = r2.json()"
   ]
  },
  {
   "cell_type": "code",
   "execution_count": 4,
   "metadata": {},
   "outputs": [],
   "source": [
    "#r1['elements'][0]"
   ]
  },
  {
   "cell_type": "code",
   "execution_count": 5,
   "metadata": {},
   "outputs": [
    {
     "data": {
      "text/plain": [
       "{'type': 'way',\n",
       " 'id': 4303427,\n",
       " 'bounds': {'minlat': 47.5665101,\n",
       "  'minlon': 7.5786819,\n",
       "  'maxlat': 47.5699704,\n",
       "  'maxlon': 7.5816998},\n",
       " 'nodes': [107573910,\n",
       "  1435404974,\n",
       "  5827696475,\n",
       "  1368814607,\n",
       "  1368814595,\n",
       "  1435404979,\n",
       "  1609006839,\n",
       "  3828574678,\n",
       "  107539569,\n",
       "  4958937294,\n",
       "  107805600,\n",
       "  107547476,\n",
       "  2071861152,\n",
       "  107802363],\n",
       " 'geometry': [{'lat': 47.5665101, 'lon': 7.5816998},\n",
       "  {'lat': 47.5665867, 'lon': 7.5816441},\n",
       "  {'lat': 47.5669064, 'lon': 7.5814614},\n",
       "  {'lat': 47.5670998, 'lon': 7.5813508},\n",
       "  {'lat': 47.5672826, 'lon': 7.5812089},\n",
       "  {'lat': 47.567987, 'lon': 7.5805609},\n",
       "  {'lat': 47.5680139, 'lon': 7.5805347},\n",
       "  {'lat': 47.568426, 'lon': 7.5801289},\n",
       "  {'lat': 47.5684972, 'lon': 7.5800588},\n",
       "  {'lat': 47.5685709, 'lon': 7.5799884},\n",
       "  {'lat': 47.5689829, 'lon': 7.579601},\n",
       "  {'lat': 47.5694307, 'lon': 7.579171},\n",
       "  {'lat': 47.56971, 'lon': 7.5789015},\n",
       "  {'lat': 47.5699704, 'lon': 7.5786819}],\n",
       " 'tags': {'highway': 'tertiary',\n",
       "  'lanes': '2',\n",
       "  'maxspeed': '50',\n",
       "  'name': 'Elsässerstrasse',\n",
       "  'oneway': 'no',\n",
       "  'surface': 'asphalt'}}"
      ]
     },
     "execution_count": 5,
     "metadata": {},
     "output_type": "execute_result"
    }
   ],
   "source": [
    "r2['elements'][0]"
   ]
  },
  {
   "cell_type": "code",
   "execution_count": 7,
   "metadata": {},
   "outputs": [
    {
     "name": "stdout",
     "output_type": "stream",
     "text": [
      "type\n",
      "id\n",
      "bounds\n",
      "nodes\n",
      "geometry\n",
      "tags\n"
     ]
    },
    {
     "data": {
      "text/plain": [
       "\"la bounding box nous permet de savoir la place qu'occupe l'objet. Le nombre de noeuds est également intéressant, il nous dit la compléxité de la figure\""
      ]
     },
     "execution_count": 7,
     "metadata": {},
     "output_type": "execute_result"
    }
   ],
   "source": [
    "for key, item in r2['elements'][0].items():\n",
    "    print(key)\n",
    "    \n",
    "'''pour chaque item on a un type (way dans notre cas), un identifiant, la bounding box du way,\n",
    "les identifiants de noeuds, tags (comme pour les noeuds) et geometry (liste ordonnée de lat, long)'''\n",
    "\n",
    "'''la bounding box nous permet de savoir la place qu'occupe l'objet. Le nombre de noeuds est également intéressant, il nous dit la compléxité de la figure'''"
   ]
  },
  {
   "cell_type": "code",
   "execution_count": null,
   "metadata": {},
   "outputs": [],
   "source": []
  }
 ],
 "metadata": {
  "kernelspec": {
   "display_name": "Python 3",
   "language": "python",
   "name": "python3"
  },
  "language_info": {
   "codemirror_mode": {
    "name": "ipython",
    "version": 3
   },
   "file_extension": ".py",
   "mimetype": "text/x-python",
   "name": "python",
   "nbconvert_exporter": "python",
   "pygments_lexer": "ipython3",
   "version": "3.6.5"
  }
 },
 "nbformat": 4,
 "nbformat_minor": 2
}
