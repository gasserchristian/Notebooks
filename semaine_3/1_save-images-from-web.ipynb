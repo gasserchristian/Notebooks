{
 "cells": [
  {
   "cell_type": "code",
   "execution_count": 18,
   "metadata": {},
   "outputs": [],
   "source": [
    "import requests\n",
    "import pandas as pd"
   ]
  },
  {
   "cell_type": "code",
   "execution_count": 76,
   "metadata": {},
   "outputs": [],
   "source": [
    "class A:\n",
    "    adress = list()\n",
    "    id = list()\n",
    "    def __init__(self,data='',page=0):\n",
    "        if(data!=''):\n",
    "            base_url = \"http://dhlabsrv8.epfl.ch/iiif_letemps/\"\n",
    "            img = base_url+data+'_'+str(page)+'/full/full/0/default.jpg'\n",
    "            A.adress.append(img)\n",
    "            A.id.append(data+'_'+str(page))\n",
    "            #print(img)\n",
    "    def show(cls):\n",
    "        return cls.adress, cls.id\n",
    "    def save(self):\n",
    "        for key, adress in enumerate(A.adress):\n",
    "            r = requests.get(adress)\n",
    "            open('../../data/content/'+A.id[key]+'.jpg', 'wb').write(r.content)\n",
    "            #print(str(key)+'::'+adress+'::'+A.id[key])"
   ]
  },
  {
   "cell_type": "code",
   "execution_count": 77,
   "metadata": {},
   "outputs": [
    {
     "data": {
      "text/plain": [
       "<__main__.A at 0x29659a68550>"
      ]
     },
     "execution_count": 77,
     "metadata": {},
     "output_type": "execute_result"
    }
   ],
   "source": [
    "A('JDG_1973_01_08',6)\n",
    "A('LNQ_1997_08_25',9)\n",
    "A('LNQ_1994_01_31',18)\n",
    "A('LNQ_1992_11_22',33)\n",
    "A('JDG_1974_02_02',17)\n",
    "A('GDL_1982_01_23',7)\n",
    "A('GDL_1973_09_10',11)\n",
    "A('GDL_1972_09_16',5)\n",
    "A('GDL_1973_01_10',11)\n",
    "A('JDG_1959_09_15',8)\n",
    "A('GDL_1973_04_09',16)\n",
    "A('JDG_1959_04_23',2)\n",
    "A('JDG_1971_11_10',11)\n",
    "A('JDG_1971_11_09',9)\n",
    "A('JDG_1971_11_12',10)\n",
    "A('JDG_1971_11_13',9)\n",
    "A('JDG_1971_12_02',9)\n",
    "A('JDG_1973_10_04',9)\n",
    "A('GDL_1973_10_04',3)\n",
    "A('JDG_1982_06_22',11)\n",
    "A('JDG_1975_06_25',9)\n",
    "A('JDG_1982_09_25',9)\n",
    "A('GDL_1971_12_29',3)\n",
    "A('JDG_1971_12_01',9)\n",
    "A('GDL_1982_06_23',9)\n",
    "A('GDL_1976_05_26',7)\n",
    "A('JDG_1979_02_09',11)\n",
    "A('JDG_1997_04_24',9)\n",
    "A('GDL_1983_11_23',11)\n",
    "A('GDL_1981_03_09',11)\n",
    "A('GDL_1971_06_21',7)\n",
    "A('GDL_1980_10_06',3)\n",
    "A('GDL_1971_05_22',24)\n",
    "A('JDG_1965_07_06',3)\n",
    "A('GDL_1972_09_14',3)\n",
    "A('GDL_1970_03_25',5)\n",
    "A('LNQ_1994_05_31',40)\n",
    "A('JDG_1973_04_09',14)\n",
    "A('JDG_1979_01_03',12)\n",
    "A('GDL_1978_04_15',12)\n",
    "A('JDG_1978_04_15',14)\n",
    "A('GDL_1971_05_18',12)\n",
    "A('JDG_1979_10_29',2)\n",
    "A('JDG_1960_01_12',10)"
   ]
  },
  {
   "cell_type": "code",
   "execution_count": 1,
   "metadata": {},
   "outputs": [
    {
     "ename": "NameError",
     "evalue": "name 'obj' is not defined",
     "output_type": "error",
     "traceback": [
      "\u001b[1;31m---------------------------------------------------------------------------\u001b[0m",
      "\u001b[1;31mNameError\u001b[0m                                 Traceback (most recent call last)",
      "\u001b[1;32m<ipython-input-1-86093ff1e3fb>\u001b[0m in \u001b[0;36m<module>\u001b[1;34m()\u001b[0m\n\u001b[1;32m----> 1\u001b[1;33m \u001b[0madresse\u001b[0m\u001b[1;33m,\u001b[0m \u001b[0mimage\u001b[0m \u001b[1;33m=\u001b[0m \u001b[0mobj\u001b[0m\u001b[1;33m.\u001b[0m\u001b[0mshow\u001b[0m\u001b[1;33m(\u001b[0m\u001b[1;33m)\u001b[0m\u001b[1;33m\u001b[0m\u001b[0m\n\u001b[0m",
      "\u001b[1;31mNameError\u001b[0m: name 'obj' is not defined"
     ]
    }
   ],
   "source": [
    "adresse, image = obj.show()"
   ]
  },
  {
   "cell_type": "code",
   "execution_count": 81,
   "metadata": {},
   "outputs": [],
   "source": [
    "obj = A()\n",
    "#obj.save()"
   ]
  }
 ],
 "metadata": {
  "kernelspec": {
   "display_name": "Python 3",
   "language": "python",
   "name": "python3"
  },
  "language_info": {
   "codemirror_mode": {
    "name": "ipython",
    "version": 3
   },
   "file_extension": ".py",
   "mimetype": "text/x-python",
   "name": "python",
   "nbconvert_exporter": "python",
   "pygments_lexer": "ipython3",
   "version": "3.6.5"
  }
 },
 "nbformat": 4,
 "nbformat_minor": 2
}
