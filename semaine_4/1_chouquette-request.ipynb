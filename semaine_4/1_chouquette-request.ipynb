{
 "cells": [
  {
   "cell_type": "code",
   "execution_count": 104,
   "metadata": {},
   "outputs": [],
   "source": [
    "import requests\n",
    "from lxml import html\n",
    "import lxml"
   ]
  },
  {
   "cell_type": "code",
   "execution_count": 120,
   "metadata": {},
   "outputs": [],
   "source": [
    "#r = requests.get('http://lachouquette.ch/category/style/mode/')"
   ]
  },
  {
   "cell_type": "code",
   "execution_count": 121,
   "metadata": {},
   "outputs": [],
   "source": [
    "#tree = html.fromstring(r.content)"
   ]
  },
  {
   "cell_type": "code",
   "execution_count": 122,
   "metadata": {},
   "outputs": [],
   "source": [
    "#truc = tree.xpath('//a[@class=\"next page-numbers\"]')"
   ]
  },
  {
   "cell_type": "code",
   "execution_count": 123,
   "metadata": {},
   "outputs": [],
   "source": [
    "#liens = tree.xpath('//section[@id=\"main\"]//div[@class=\"row\"]')[0].xpath('.//h3//a')"
   ]
  },
  {
   "cell_type": "code",
   "execution_count": 124,
   "metadata": {},
   "outputs": [],
   "source": [
    "#href = [item.xpath('.//@href') for item in liens]\n",
    "#titre = [item.xpath('.//text()') for item in liens]"
   ]
  },
  {
   "cell_type": "code",
   "execution_count": 125,
   "metadata": {},
   "outputs": [],
   "source": [
    "#auteurs = tree.xpath('//section[@id=\"main\"]//span[@class=\"entry-meta\"]//a//text()')"
   ]
  },
  {
   "cell_type": "code",
   "execution_count": 126,
   "metadata": {},
   "outputs": [],
   "source": [
    "#auteurs"
   ]
  },
  {
   "cell_type": "code",
   "execution_count": 202,
   "metadata": {},
   "outputs": [],
   "source": [
    "categories = ['life','style','interviews','travel']\n",
    "#categories = ['travel']"
   ]
  },
  {
   "cell_type": "code",
   "execution_count": 203,
   "metadata": {},
   "outputs": [
    {
     "name": "stdout",
     "output_type": "stream",
     "text": [
      "life\n",
      "life\n",
      "life\n",
      "life\n",
      "life\n",
      "life\n",
      "life\n",
      "life\n",
      "life\n",
      "life\n",
      "life\n",
      "style\n",
      "style\n",
      "style\n",
      "style\n",
      "interviews\n",
      "interviews\n",
      "travel\n"
     ]
    }
   ],
   "source": [
    "liens = list()\n",
    "href = list()\n",
    "titre = list()\n",
    "auteurs = list()\n",
    "\n",
    "for category in categories:\n",
    "    r = requests.get('http://lachouquette.ch/category/'+category)\n",
    "    tree = html.fromstring(r.content)\n",
    "    liens = liens + tree.xpath('//section[@id=\"main\"]//div[@class=\"row\"]')[0].xpath('.//h3//a')\n",
    "    href = href + [item.xpath('.//@href') for item in liens]\n",
    "    titre = titre + [item.xpath('.//text()') for item in liens]\n",
    "    auteurs = auteurs + tree.xpath('//section[@id=\"main\"]//span[@class=\"entry-meta\"]//a//text()')\n",
    "    nextpage = tree.xpath('//section[@id=\"main\"]//a[@class=\"next page-numbers\"]')\n",
    "    while len(nextpage):\n",
    "        print(category)\n",
    "        r = requests.get(nextpage[0].xpath('.//@href')[0])\n",
    "        tree = html.fromstring(r.content)\n",
    "        liens_while = tree.xpath('//section[@id=\"main\"]//div[@class=\"row\"]')[0].xpath('.//h3//a')\n",
    "        liens = liens + liens_while\n",
    "        href = href + [item.xpath('.//@href') for item in liens_while]\n",
    "        titre = titre + [item.xpath('.//text()') for item in liens_while]\n",
    "        auteurs = auteurs + tree.xpath('//section[@id=\"main\"]//span[@class=\"entry-meta\"]//a//text()')\n",
    "        nextpage = tree.xpath('//section[@id=\"main\"]//a[@class=\"next page-numbers\"]')\n",
    "\n",
    "    \n",
    "    \n",
    "    \n",
    "    "
   ]
  },
  {
   "cell_type": "code",
   "execution_count": 204,
   "metadata": {},
   "outputs": [],
   "source": [
    "import pandas as pd"
   ]
  },
  {
   "cell_type": "code",
   "execution_count": 205,
   "metadata": {},
   "outputs": [],
   "source": [
    "tab = pd.DataFrame([[item[0] for item in href],[item[0] for item in titre],auteurs])"
   ]
  },
  {
   "cell_type": "code",
   "execution_count": 206,
   "metadata": {},
   "outputs": [],
   "source": [
    "tab = tab.transpose()"
   ]
  },
  {
   "cell_type": "code",
   "execution_count": 207,
   "metadata": {},
   "outputs": [],
   "source": [
    "tab.columns = ['link','title','author']"
   ]
  },
  {
   "cell_type": "code",
   "execution_count": 213,
   "metadata": {},
   "outputs": [
    {
     "name": "stdout",
     "output_type": "stream",
     "text": [
      "320\n",
      "11\n"
     ]
    }
   ],
   "source": [
    "print(len(tab['title'].unique()))\n",
    "print(len(tab['author'].unique()))"
   ]
  },
  {
   "cell_type": "markdown",
   "metadata": {},
   "source": [
    "# Résultat intermédiaire\n",
    "Le nombre d'articles publiés est de 320 et le nombre d'auteurs est de 11 dans le blog de la Chouquette."
   ]
  },
  {
   "cell_type": "code",
   "execution_count": null,
   "metadata": {},
   "outputs": [],
   "source": []
  },
  {
   "cell_type": "code",
   "execution_count": null,
   "metadata": {},
   "outputs": [],
   "source": []
  },
  {
   "cell_type": "code",
   "execution_count": null,
   "metadata": {},
   "outputs": [],
   "source": []
  }
 ],
 "metadata": {
  "kernelspec": {
   "display_name": "Python 3",
   "language": "python",
   "name": "python3"
  },
  "language_info": {
   "codemirror_mode": {
    "name": "ipython",
    "version": 3
   },
   "file_extension": ".py",
   "mimetype": "text/x-python",
   "name": "python",
   "nbconvert_exporter": "python",
   "pygments_lexer": "ipython3",
   "version": "3.6.5"
  }
 },
 "nbformat": 4,
 "nbformat_minor": 2
}
